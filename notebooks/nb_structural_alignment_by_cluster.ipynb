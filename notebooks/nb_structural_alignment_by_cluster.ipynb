{
 "cells": [
  {
   "cell_type": "markdown",
   "id": "94078887",
   "metadata": {},
   "source": [
    "# Structural alignments by assigned cluster"
   ]
  },
  {
   "cell_type": "code",
   "execution_count": 1,
   "id": "1e381ed3",
   "metadata": {},
   "outputs": [],
   "source": [
    "import numpy as np\n",
    "import csv"
   ]
  },
  {
   "cell_type": "code",
   "execution_count": 29,
   "id": "505a3e92",
   "metadata": {},
   "outputs": [
    {
     "name": "stdout",
     "output_type": "stream",
     "text": [
      "Read 57 ORFs\n"
     ]
    }
   ],
   "source": [
    "cluster_assignments_fpath = \"../out/groups/assignments_v1.tsv\"\n",
    "\n",
    "orfids = []\n",
    "orfid_to_clusteridx = {}\n",
    "clusteridx_to_orfids = {}\n",
    "with open(cluster_assignments_fpath, \"r\") as f:\n",
    "    csvreader = csv.reader(f, delimiter=\" \")\n",
    "    for row in csvreader:  # process each row\n",
    "        orfid = row[0]\n",
    "        clusteridx = int(row[1])\n",
    "        orfids.append(orfid)\n",
    "        orfid_to_clusteridx[orfid] = clusteridx\n",
    "        if clusteridx not in clusteridx_to_orfids:\n",
    "            clusteridx_to_orfids[clusteridx] = []\n",
    "        clusteridx_to_orfids[clusteridx].append(orfid)\n",
    "clusteridxs = np.sort(list(clusteridx_to_orfids.keys()))\n",
    "print(f\"Read {len(orfid_to_clusteridx)} ORFs\")\n",
    "assert np.sum([len(lst) for lst in clusteridx_to_orfids.values()]) == len(orfid_to_clusteridx), \"Not adding up!\"\n"
   ]
  },
  {
   "cell_type": "code",
   "execution_count": 34,
   "id": "b78afbd8",
   "metadata": {},
   "outputs": [],
   "source": [
    "seq_fpath = \"../out/aaseqs/K00370/long_complete_aa_seqs.txt\"\n",
    "\n",
    "orfid_to_sequence = {}\n",
    "with open(seq_fpath, \"r\") as f:\n",
    "    sequences = f.readlines()\n",
    "    for i, orf in enumerate(orfids):\n",
    "        orfid_to_sequence[orf] = sequences[i]\n",
    "\n",
    "assert len(sequences) == len(orfid_to_clusteridx), \"Wrong number of sequences\""
   ]
  },
  {
   "cell_type": "code",
   "execution_count": 37,
   "id": "f26a07bd",
   "metadata": {},
   "outputs": [
    {
     "name": "stdout",
     "output_type": "stream",
     "text": [
      "Cluster 1 (14): ['Soil11.scaffold_587233302_c1_1', 'Soil14.scaffold_280216268_c1_12', 'Soil15.scaffold_116822102_c1_19', 'Soil16.scaffold_313969256_c1_10', 'Soil16.scaffold_1312607544_c1_3', 'Soil17.scaffold_1045002370_c1_23', 'Soil17.scaffold_274056314_c1_61', 'Soil5.scaffold_183283646_c1_24', 'Soil5.scaffold_489407153_c1_201', 'Soil5.scaffold_395480119_c1_5', 'Soil5.scaffold_120605214_c1_7', 'Soil5.scaffold_249001418_c1_2', 'Soil5.scaffold_434220697_c1_2', 'Soil5.scaffold_13272894_c1_8']\n",
      "\t [1236, 1257, 1269, 1255, 1224, 1228, 1230, 1223, 1227, 1230, 1228, 1249, 1228, 1237]\n",
      "Cluster 2 (4): ['Soil12.scaffold_266712765_c1_2', 'Soil16.scaffold_436666653_c1_2', 'Soil5.scaffold_384418492_c1_161', 'Soil9.scaffold_209032411_c1_3']\n",
      "\t [1244, 1235, 1230, 1222]\n",
      "Cluster 3 (4): ['Soil11.scaffold_431547323_c1_2', 'Soil14.scaffold_576820813_c1_40', 'Soil3.scaffold_414071996_c1_8', 'Soil5.scaffold_133269568_c1_66']\n",
      "\t [1204, 1252, 1221, 1198]\n",
      "Cluster 4 (8): ['Soil14.scaffold_596019752_c1_119', 'Soil15.scaffold_16321085_c1_6', 'Soil15.scaffold_1255266399_c1_142', 'Soil17.scaffold_918557319_c1_2', 'Soil5.scaffold_82918708_c1_12', 'Soil6.scaffold_86801766_c1_2', 'Soil9.scaffold_816779774_c1_14', 'Soil9.scaffold_175774837_c1_4']\n",
      "\t [1228, 1245, 1227, 1227, 1228, 1227, 1230, 1175]\n",
      "Cluster 5 (6): ['Soil3.scaffold_333288240_c1_8', 'Soil3.scaffold_530221301_c1_2', 'Soil3.scaffold_285743490_c1_2', 'Soil5.scaffold_549495455_c1_6', 'Soil5.scaffold_416434691_c1_48', 'Soil6.scaffold_95998780_c1_2']\n",
      "\t [1261, 1196, 1239, 1231, 1248, 1219]\n",
      "Cluster 6 (6): ['Soil14.scaffold_465502786_c1_2', 'Soil3.scaffold_408070428_c1_2', 'Soil5.scaffold_87619515_c1_114', 'Soil5.scaffold_544698016_c1_2', 'Soil5.scaffold_559257041_c1_1', 'Soil6.scaffold_460055642_c1_2']\n",
      "\t [1239, 1269, 1230, 1223, 1238, 1261]\n",
      "Cluster 7 (15): ['Soil11.scaffold_65427810_c1_20', 'Soil11.scaffold_211583530_c1_6', 'Soil15.scaffold_175810641_c1_3', 'Soil16.scaffold_804923086_c1_3', 'Soil17.scaffold_1202428475_c1_2', 'Soil17.scaffold_332687915_c1_2', 'Soil5.scaffold_215117222_c1_59', 'Soil6.scaffold_312871021_c1_4', 'Soil9.scaffold_98038919_c1_19', 'Soil9.scaffold_766455321_c1_2', 'Soil9.scaffold_711597457_c1_4', 'T0.scaffold_786865677_c1_2', 'T0.scaffold_172278247_c1_4', 'T0.scaffold_961428012_c1_71', 'T0.scaffold_273218771_c1_2']\n",
      "\t [1216, 1269, 1230, 1257, 1252, 1249, 1272, 1269, 1222, 1222, 1204, 1246, 1251, 1207, 1237]\n"
     ]
    }
   ],
   "source": [
    "for idx in clusteridxs:\n",
    "    cluster = clusteridx_to_orfids[idx]\n",
    "    print(f\"Cluster {idx} ({len(cluster)}):\", clusteridx_to_orfids[idx])\n",
    "    seqs = [orfid_to_sequence[orf] for orf in cluster]\n",
    "    print(\"\\t\", str([len(s) for s in seqs]))"
   ]
  },
  {
   "cell_type": "code",
   "execution_count": null,
   "id": "49175968",
   "metadata": {},
   "outputs": [],
   "source": []
  }
 ],
 "metadata": {
  "kernelspec": {
   "display_name": "Python 3",
   "language": "python",
   "name": "python3"
  },
  "language_info": {
   "codemirror_mode": {
    "name": "ipython",
    "version": 3
   },
   "file_extension": ".py",
   "mimetype": "text/x-python",
   "name": "python",
   "nbconvert_exporter": "python",
   "pygments_lexer": "ipython3",
   "version": "3.12.11"
  }
 },
 "nbformat": 4,
 "nbformat_minor": 5
}
