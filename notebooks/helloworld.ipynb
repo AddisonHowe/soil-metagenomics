{
 "cells": [
  {
   "cell_type": "markdown",
   "id": "8e6ad1d5",
   "metadata": {},
   "source": [
    "## Demo notebook\n",
    "\n",
    "\n",
    "First, install the mgsa package in the desired environment:\n",
    "\n",
    "```bash\n",
    "python -m pip install -e .\n",
    "```\n"
   ]
  },
  {
   "cell_type": "code",
   "execution_count": 10,
   "id": "3d7f3d6e",
   "metadata": {},
   "outputs": [],
   "source": [
    "import numpy as np\n",
    "from importlib import reload\n",
    "\n",
    "import mgsa.helpers as mgsa_helpers\n",
    "from mgsa.helpers import say_hello"
   ]
  },
  {
   "cell_type": "code",
   "execution_count": 11,
   "id": "d01592ed",
   "metadata": {},
   "outputs": [
    {
     "name": "stdout",
     "output_type": "stream",
     "text": [
      "Hello world 2\n"
     ]
    }
   ],
   "source": [
    "say_hello()"
   ]
  },
  {
   "cell_type": "code",
   "execution_count": 12,
   "id": "68a6f1b4",
   "metadata": {},
   "outputs": [
    {
     "name": "stdout",
     "output_type": "stream",
     "text": [
      "Hello world 2\n"
     ]
    }
   ],
   "source": [
    "# To reload a module after edits, make sure to import with an alias, as above:\n",
    "#   `import mgsa.helpers as mgsa_helpers\n",
    "# Then, reload the module and re-import\n",
    "\n",
    "reload(mgsa_helpers)\n",
    "from mgsa.helpers import say_hello\n",
    "\n",
    "say_hello()"
   ]
  },
  {
   "cell_type": "code",
   "execution_count": null,
   "id": "46519873",
   "metadata": {},
   "outputs": [],
   "source": []
  }
 ],
 "metadata": {
  "kernelspec": {
   "display_name": "Python 3",
   "language": "python",
   "name": "python3"
  },
  "language_info": {
   "codemirror_mode": {
    "name": "ipython",
    "version": 3
   },
   "file_extension": ".py",
   "mimetype": "text/x-python",
   "name": "python",
   "nbconvert_exporter": "python",
   "pygments_lexer": "ipython3",
   "version": "3.13.5"
  }
 },
 "nbformat": 4,
 "nbformat_minor": 5
}
