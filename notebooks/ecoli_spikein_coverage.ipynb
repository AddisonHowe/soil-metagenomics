{
 "cells": [
  {
   "cell_type": "markdown",
   "id": "7930b5c5",
   "metadata": {},
   "source": [
    "# E. coli spike-in coverage"
   ]
  },
  {
   "cell_type": "code",
   "execution_count": 1,
   "id": "5bd9e53a",
   "metadata": {},
   "outputs": [],
   "source": [
    "import os\n",
    "import numpy as np\n",
    "import matplotlib.pyplot as plt\n",
    "import csv\n",
    "import gzip\n",
    "import tqdm.notebook as tqdm\n",
    "import time"
   ]
  },
  {
   "cell_type": "code",
   "execution_count": 2,
   "id": "436bd4e2",
   "metadata": {},
   "outputs": [],
   "source": [
    "DISABLE_PBAR = False"
   ]
  },
  {
   "cell_type": "code",
   "execution_count": 3,
   "id": "7b3e004b",
   "metadata": {},
   "outputs": [],
   "source": [
    "SEQDIR = \"/Users/addisonhowe/mnts/raw_data/sequencing\"\n",
    "DATDIRBASE = \"/Users/addisonhowe/mnts/raw_data/sequencing/samples\"\n",
    "\n",
    "sam_header_fname = \"header.sam\"\n",
    "\n",
    "outdir = f\"../out/ecoli_coverage/arrays\"\n",
    "imgdir = f\"../out/ecoli_coverage/images\"\n",
    "os.makedirs(outdir, exist_ok=True)\n",
    "os.makedirs(imgdir, exist_ok=True)"
   ]
  },
  {
   "cell_type": "code",
   "execution_count": 4,
   "id": "30dfcb1c",
   "metadata": {},
   "outputs": [],
   "source": [
    "# Need to fix this name since in the basecov file there is a comma.\n",
    "FIX_NAMES = {\n",
    "    \"NC_010943.1_Stenotrophomonas_maltophilia_K279a__strain_K279a\":\n",
    "        \"NC_010943.1_Stenotrophomonas_maltophilia_K279a,_strain_K279a\",\n",
    "}\n"
   ]
  },
  {
   "cell_type": "code",
   "execution_count": 5,
   "id": "d12c78cb",
   "metadata": {},
   "outputs": [],
   "source": [
    "RAWNAME_TO_SAMPLE = {}\n",
    "SAMPLE_TO_RAWNAME = {}\n",
    "with open(f\"{SEQDIR}/raw_data_name_mapping.tsv\", \"r\") as f:\n",
    "    csvreader = csv.reader(f, delimiter=\"\\t\")\n",
    "    for row in csvreader:  # process each row\n",
    "        RAWNAME_TO_SAMPLE[row[0]] = row[1]\n",
    "        SAMPLE_TO_RAWNAME[row[1]] = row[0]\n"
   ]
  },
  {
   "cell_type": "code",
   "execution_count": 6,
   "id": "524609a7",
   "metadata": {},
   "outputs": [
    {
     "name": "stdout",
     "output_type": "stream",
     "text": [
      "NC_016830.1_Pseudomonas_fluorescens_F113 {'gene_narJ': [(4471254, 4472009), (4471254, 4472009)], 'gene_norW': [(4047309, 4048442), (4047309, 4048442)], 'gene_norV': [(4045870, 4047312), (4045870, 4047312)], 'gene_nosR': [(3532052, 3534220), (3532052, 3534220), (4024580, 4026706), (4024580, 4026706)], 'gene_nosZ': [(3530080, 3531966), (3530080, 3531966), (4026772, 4028709), (4026772, 4028709)], 'gene_napA': [(3593108, 3595612), (3593108, 3595612)], 'gene_narI': [(4472002, 4472682), (4472002, 4472682)], 'gene_nirD': [(2065052, 2065369), (2065052, 2065369), (3330304, 3330690), (3330304, 3330690)], 'gene_norR': [(4044188, 4045711), (4044188, 4045711), (4451523, 4453055), (4451523, 4453055), (5626742, 5628298), (5626742, 5628298)], 'gene_nirB': [(2065366, 2067819), (2065366, 2067819), (3327743, 3330304), (3327743, 3330304)], 'gene_narH': [(4469713, 4471251), (4469713, 4471251)], 'gene_napE': [(3595907, 3596074), (3595907, 3596074)]}\n",
      "NZ_KB906274.1 {'gene_narJ': [(27471, 28184), (27471, 28184)], 'gene_narI': [(28181, 28876), (28181, 28876)], 'gene_narH': [(25951, 27474), (25951, 27474)]}\n",
      "CP013959.1_Staphylococcus_aureus_strain_V605 {'gene_narJ': [(2712474, 2713049), (2712474, 2713049)], 'gene_norB': [(1606190, 1607590), (1606190, 1607590)], 'gene_norC': [(123222, 124610), (123222, 124610)], 'gene_narI': [(2711804, 2712481), (2711804, 2712481)], 'gene_nirD': [(2719557, 2719871), (2719557, 2719871)], 'gene_nirB': [(2719875, 2722280), (2719875, 2722280)], 'gene_narH': [(2713042, 2714601), (2713042, 2714601)]}\n",
      "NC_002976.3_Staphylococcus_epidermidis_RP62A {'gene_narJ': [(2001847, 2002422), (2001847, 2002422)], 'gene_narI': [(2001177, 2001854), (2001177, 2001854)], 'gene_nirD': [(2008746, 2009060), (2008746, 2009060)], 'gene_nirB': [(2009063, 2011468), (2009063, 2011468)], 'gene_narH': [(2002415, 2003968), (2002415, 2003968)]}\n",
      "NC_004337.2_Shigella_flexneri_2a_str._301 {'gene_narJ': [(1280828, 1281538), (1280828, 1281538)], 'gene_napA': [(2322267, 2324753), (2322267, 2324753)], 'gene_narI': [(1281538, 1282215), (1281538, 1282215)], 'gene_narG': [(1275553, 1279296), (1275553, 1279296)], 'gene_nirD': [(3465769, 3466095), (3465769, 3466095)], 'gene_narZ': [(1797752, 1801549), (1797752, 1801549)], 'gene_nirB': [(3463229, 3465772), (3463229, 3465772)], 'gene_narH': [(1279293, 1280831), (1279293, 1280831)], 'gene_nrfG': [(4304132, 4304728), (4304132, 4304728)], 'gene_nrfA': [(4298353, 4299789), (4298353, 4299789)], 'gene_nrfF': [(4303752, 4304135), (4303752, 4304135)], 'gene_napD': [(2324750, 2325013), (2324750, 2325013)], 'gene_napB': [(2320269, 2320718), (2320269, 2320718)]}\n",
      "NC_003296.1 {'gene_narJ': [(1231826, 1232506), (1231826, 1232506)], 'gene_nosZ': [(1720550, 1722490), (1720550, 1722490)], 'gene_narI': [(1232514, 1233197), (1232514, 1233197)], 'gene_nirD': [(1553561, 1553902), (1553561, 1553902)], 'gene_norR': [(1210706, 1212238), (1210706, 1212238)], 'gene_nirB': [(1553917, 1556475), (1553917, 1556475)], 'gene_nirK': [(1884433, 1885926), (1884433, 1885926)], 'gene_narH': [(1230261, 1231808), (1230261, 1231808)]}\n",
      "NC_007606.1_Shigella_dysenteriae_Sd197 {'gene_narJ': [(1187575, 1188285), (1187575, 1188285)], 'gene_norW': [(2688634, 2689767), (2688634, 2689767)], 'gene_norV': [(2687198, 2688637), (2687198, 2688637)], 'gene_narW': [(1515403, 1516098), (1515403, 1516098)], 'gene_napA': [(821207, 823693), (821207, 823693)], 'gene_narI': [(1188285, 1188962), (1188285, 1188962), (1516095, 1516775), (1516095, 1516775)], 'gene_nirD': [(3263593, 3263919), (3263593, 3263919)], 'gene_narZ': [(1512189, 1513880), (1512189, 1513880)], 'gene_norR': [(2685497, 2687011), (2685497, 2687011)], 'gene_nirB': [(3261053, 3263596), (3261053, 3263596)], 'gene_narH': [(1186040, 1187578), (1186040, 1187578), (1513880, 1515403), (1513880, 1515403)], 'gene_hcp': [(2193188, 2194840), (2193188, 2194840)], 'gene_napD': [(820947, 821210), (820947, 821210)], 'gene_napB': [(825242, 825691), (825242, 825691)]}\n",
      "NZ_CP014703.1 {'gene_narJ': [(1629867, 1630535), (1629867, 1630535)], 'gene_narI': [(1629166, 1629849), (1629166, 1629849)], 'gene_nirD': [(1393046, 1393387), (1393046, 1393387)], 'gene_nirB': [(1393402, 1395957), (1393402, 1395957)], 'gene_narH': [(1630550, 1632103), (1630550, 1632103)]}\n",
      "NC_018708.1_Acidovorax_sp._KKS102 {'gene_narJ': [(507255, 507956), (507255, 507956)], 'gene_narI': [(507953, 508687), (507953, 508687)], 'gene_nirD': [(3811069, 3811470), (3811069, 3811470)], 'gene_norR': [(188898, 190475), (188898, 190475)], 'gene_nirB': [(3807720, 3810167), (3807720, 3810167)], 'gene_narH': [(505709, 507232), (505709, 507232)]}\n",
      "NC_011071.1_Stenotrophomonas_maltophilia_R551-3 {'gene_narJ': [(2508523, 2509203), (2508523, 2509203)], 'gene_narI': [(2507819, 2508526), (2507819, 2508526)], 'gene_narH': [(2509203, 2510747), (2509203, 2510747)]}\n",
      "NC_010002.1_Delftia_acidovorans_SPH-1 {'gene_narJ': [(1235307, 1236020), (1235307, 1236020)], 'gene_narI': [(1236017, 1236754), (1236017, 1236754)], 'gene_nirD': [(2188318, 2188659), (2188318, 2188659)], 'gene_norR': [(1191360, 1192931), (1191360, 1192931)], 'gene_nirB': [(2188708, 2191224), (2188708, 2191224)], 'gene_narH': [(1233754, 1235295), (1233754, 1235295)]}\n",
      "NC_010943.1_Stenotrophomonas_maltophilia_K279a,_strain_K279a {'gene_narJ': [(2807836, 2808516), (2807836, 2808516)], 'gene_narI': [(2807132, 2807839), (2807132, 2807839)], 'gene_narH': [(2808516, 2810060), (2808516, 2810060)]}\n",
      "NZ_CP010536.1_Cupriavidus_basilensis_strain_4G11 {'gene_narJ': [(1845062, 1845766), (1845062, 1845766), (1878522, 1879202), (1878522, 1879202)], 'gene_narI': [(1844368, 1845051), (1844368, 1845051), (1879199, 1879942), (1879199, 1879942)], 'gene_norR': [(1854267, 1855859), (1854267, 1855859)], 'gene_narH': [(1845873, 1847426), (1845873, 1847426), (1876987, 1878510), (1876987, 1878510)]}\n",
      "NC_015563.1_Delftia_sp._Cs1-4 {'gene_narJ': [(6085886, 6086599), (6085886, 6086599)], 'gene_narI': [(6085152, 6085889), (6085152, 6085889)], 'gene_nirD': [(5293680, 5294021), (5293680, 5294021)], 'gene_norR': [(6139941, 6141524), (6139941, 6141524)], 'gene_nirB': [(5291115, 5293631), (5291115, 5293631)], 'gene_narH': [(6086611, 6088152), (6086611, 6088152)]}\n",
      "NC_014323.1_Herbaspirillum_seropedicae_SmR1 {'gene_narJ': [(4177345, 4178037), (4177345, 4178037)], 'gene_narI': [(4178034, 4178726), (4178034, 4178726)], 'gene_nirD': [(3294802, 3295164), (3294802, 3295164)], 'gene_norR': [(2858024, 2859604), (2858024, 2859604)], 'gene_nirB': [(3292082, 3294655), (3292082, 3294655)], 'gene_narH': [(4175768, 4177321), (4175768, 4177321)]}\n",
      "NZ_JXYQ01000023.1 {'gene_narJ': [(2344, 3045), (2344, 3045)], 'gene_narI': [(1613, 2347), (1613, 2347)], 'gene_narH': [(3200, 4723), (3200, 4723)]}\n",
      "Lee_A8Q_1_Ecoli_contig_1_polypolish {'gene_narJ': [(2901350, 2902060)], 'gene_norW': [(1461405, 1462538)], 'gene_norV': [(1462535, 1463974)], 'gene_narW': [(2679179, 2679874)], 'gene_napA': [(1938569, 1941055)], 'gene_narI': [(2679871, 2680551), (2900673, 2901350)], 'gene_narG': [(2903592, 2907335)], 'gene_nirD': [(768056, 768382)], 'name_glucokinase': [(1747660, 1748625)], 'gene_narZ': [(2673898, 2677638)], 'gene_norR': [(1464161, 1465675)], 'gene_nirB': [(768379, 770922)], 'gene_narH': [(2677635, 2679179), (2902057, 2903595)], 'gene_nrfG': [(4543862, 4544458)], 'gene_hcp': [(3256829, 3258481)], 'gene_nrfA': [(4548801, 4550237)], 'gene_nrfF': [(4544455, 4544838), (4544831, 4546453)], 'gene_napD': [(1938309, 1938572)], 'gene_napB': [(1942604, 1943053)]}\n",
      "NC_008702.1_Azoarcus_sp._BH72 {'gene_nosZ': [(3420337, 3422271), (3420337, 3422271)], 'gene_napA': [(705728, 708220), (705728, 708220), (4318452, 4320995), (4318452, 4320995)], 'gene_nirD': [(1269149, 1269487), (1269149, 1269487)], 'gene_nirB': [(1266596, 1269127), (1266596, 1269127)], 'gene_napE': [(708506, 708664), (708506, 708664)]}\n",
      "NZ_JXYQ01000018.1 {'gene_nosZ': [(21992, 23914), (21992, 23914)]}\n",
      "NZ_HG916855.1 {'gene_napA': [(1351263, 1353770), (1351263, 1353770)]}\n",
      "NZ_AJVM01000020.1 {'gene_nirD': [(11034, 11369), (11034, 11369)], 'gene_nirB': [(8579, 11029), (8579, 11029)]}\n",
      "NZ_KB976986.1 {'gene_nirD': [(737210, 738832), (737210, 738832)], 'gene_nirB': [(734649, 737195), (734649, 737195)]}\n",
      "NZ_CP010350.1_Acinetobacter_johnsonii_XBB1 {'gene_nirD': [(1177943, 1179553), (1177943, 1179553)], 'gene_nirB': [(1175301, 1177847), (1175301, 1177847)]}\n",
      "NZ_KB906253.1_Curvibacter_lanceolatus_ATCC_14669 {'gene_nirD': [(43780, 44118), (43780, 44118)], 'gene_nirB': [(41222, 43738), (41222, 43738)]}\n",
      "NZ_CP007638.1_Pseudomonas_sp._WCS374 {'gene_nirD': [(4452892, 4453209), (4452892, 4453209)], 'gene_norR': [(5026934, 5028481), (5026934, 5028481)], 'gene_nirB': [(4450442, 4452895), (4450442, 4452895)]}\n",
      "NC_003902.1_Xanthomonas_campestris_pv._campestris_str._ATCC_33913 {'gene_nirD': [(2356173, 2356538), (2356173, 2356538)], 'gene_nirB': [(2353759, 2356176), (2353759, 2356176)]}\n",
      "NC_007492.2_Pseudomonas_fluorescens_Pf0-1 {'gene_nirD': [(1979406, 1979723), (1979406, 1979723)], 'gene_norR': [(5250744, 5252297), (5250744, 5252297)], 'gene_nirB': [(1979720, 1982173), (1979720, 1982173)]}\n",
      "NC_012660.1_Pseudomonas_fluorescens_SBW25 {'gene_nirD': [(3786578, 3786940), (3786578, 3786940)], 'gene_norR': [(5638858, 5640402), (5638858, 5640402)], 'gene_nirB': [(3786940, 3789480), (3786940, 3789480)]}\n",
      "NC_002570.2_Bacillus_halodurans_C-125 {'gene_nirD': [(668901, 669224), (668901, 669224)], 'gene_nirB': [(666465, 668888), (666465, 668888)], 'gene_nasC': [(669261, 671483), (669261, 671483)]}\n",
      "NZ_HG916852.1_Rhizobium_sp._LPU83 {'gene_nirD': [(3472456, 3472791), (3472456, 3472791)], 'gene_nirB': [(3470001, 3472451), (3470001, 3472451)]}\n",
      "NZ_CP014540.1_Acinetobacter_baumannii_strain_XH857 {'gene_nirD': [(1540940, 1542562), (1540940, 1542562)], 'gene_nirB': [(1538381, 1540927), (1538381, 1540927)]}\n",
      "NZ_CP010537.1 {'gene_nirD': [(2509922, 2510293), (2509922, 2510293)], 'gene_nirB': [(2507327, 2509876), (2507327, 2509876)]}\n",
      "NZ_JXYQ01000040.1 {'gene_nirD': [(24027, 24365), (24027, 24365)], 'gene_nirB': [(24402, 26945), (24402, 26945)]}\n",
      "NZ_JXYQ01000021.1 {'gene_norR': [(28774, 30354), (28774, 30354)]}\n",
      "Ralstonia_solanacearum_strain_KACC_10722 {'gene_nirK': [(3383506, 3385002), (3383506, 3385002)]}\n"
     ]
    }
   ],
   "source": [
    "REGION_MAPPING = {}  # Map name to gene to interval\n",
    "\n",
    "for d in os.listdir(\"../igv/out/search_results\"):\n",
    "    search_file = f\"../igv/out/search_results/{d}\"\n",
    "    with open(search_file, \"r\") as f:\n",
    "        for line in f:\n",
    "            # Skip comment lines (optional)\n",
    "            if line.startswith(\"#\") or not line.strip():\n",
    "                continue\n",
    "            parts = line.strip().split(\"\\t\")\n",
    "            if len(parts) >= 5:\n",
    "                seqname = parts[0]\n",
    "                start = int(parts[3])\n",
    "                end = int(parts[4])\n",
    "                if seqname not in REGION_MAPPING:\n",
    "                    REGION_MAPPING[seqname] = {}\n",
    "                if d not in REGION_MAPPING[seqname]:\n",
    "                    REGION_MAPPING[seqname][d] = []\n",
    "                REGION_MAPPING[seqname][d].append((start, end))\n",
    "\n",
    "for k in REGION_MAPPING:\n",
    "    print(k, REGION_MAPPING[k])"
   ]
  },
  {
   "cell_type": "code",
   "execution_count": 7,
   "id": "0fe60377",
   "metadata": {},
   "outputs": [],
   "source": [
    "array_list = [f for f in os.listdir(outdir) if f.endswith(\".npz\")]\n",
    "key = \"Lee_A8Q_1_Ecoli_contig_1_polypolish\""
   ]
  },
  {
   "cell_type": "code",
   "execution_count": 8,
   "id": "2539fb8b",
   "metadata": {},
   "outputs": [],
   "source": [
    "def find_regions(x, dx=1):\n",
    "    regions = []\n",
    "    r0 = x[0]\n",
    "    r1 = np.nan\n",
    "    idx_prev = x[0]\n",
    "    for i in range(1, len(x)):\n",
    "        idx = x[i]\n",
    "        # Check if the current value is an extension of the current region\n",
    "        if idx - idx_prev <= dx:\n",
    "            # Extend the region\n",
    "            r1 = idx\n",
    "        else:\n",
    "            # Reached end of regions. Store and reset.\n",
    "            regions.append([r0, r1])\n",
    "            r0 = idx\n",
    "            r1 = np.nan\n",
    "        idx_prev = idx\n",
    "    # Append final region\n",
    "    regions.append([r0, r1])\n",
    "    return np.array(regions)\n",
    "\n",
    "def get_spike_height(x, regions):\n",
    "    spike_heights = np.zeros(len(regions))\n",
    "    for i, region in enumerate(regions):\n",
    "        r0, r1 = region\n",
    "        if np.isnan(r1):\n",
    "            r1 = r0\n",
    "        heights = x[int(r0):int(r1 + 1)]\n",
    "        spike_heights[i] = np.max(heights)\n",
    "    return spike_heights"
   ]
  },
  {
   "cell_type": "code",
   "execution_count": 9,
   "id": "25e7b705",
   "metadata": {},
   "outputs": [
    {
     "data": {
      "application/vnd.jupyter.widget-view+json": {
       "model_id": "a3c476daf59f43bd962e64f1fbe316ce",
       "version_major": 2,
       "version_minor": 0
      },
      "text/plain": [
       "  0%|          | 0/30 [00:00<?, ?it/s]"
      ]
     },
     "metadata": {},
     "output_type": "display_data"
    }
   ],
   "source": [
    "kappa = 5  # Track regions exceeding kappa * median reads\n",
    "dx = 100  # Padding for regions used in `find_regions`\n",
    "\n",
    "for array in tqdm.tqdm(array_list, total=len(array_list), disable=DISABLE_PBAR):\n",
    "    x = np.load(f\"{outdir}/{array}\", allow_pickle=True)[key]\n",
    "\n",
    "    med = np.median(x)  # store the median value\n",
    "    spike_locations = np.argwhere(x > kappa * med).flatten()\n",
    "    spike_regions = find_regions(spike_locations, dx=dx)\n",
    "    spike_heights = get_spike_height(x, spike_regions)\n",
    "    np.save(\n",
    "        f\"{outdir}/{array.replace(\".npz\", \"\")}_spike_regions.npy\", \n",
    "        spike_regions\n",
    "    )\n",
    "    np.save(\n",
    "        f\"{outdir}/{array.replace(\".npz\", \"\")}_spike_heights.npy\", \n",
    "        spike_heights\n",
    "    )\n",
    "\n",
    "\n",
    "    fig, ax = plt.subplots(1, 1, figsize=(8,6))\n",
    "    # Plot base coverage\n",
    "    ax.plot(np.arange(1, len(x) + 1), x, '.')\n",
    "    \n",
    "    # Add annotations\n",
    "    annotations = REGION_MAPPING.get(key, {})\n",
    "    ylims = ax.get_ylim()\n",
    "    labelheight = ylims[1] - 0.025 * (ylims[1] - ylims[0])\n",
    "    for gene in annotations:\n",
    "        prev_start, prev_end = -1, -1\n",
    "        regions = annotations[gene]\n",
    "        for region in regions:\n",
    "            start, end = region\n",
    "            if prev_start != start or prev_end != end:\n",
    "                ax.axvline(start, *ylims, linestyle=\":\", color=\"k\", zorder=1)\n",
    "                ax.axvline(end, *ylims, linestyle=\":\", color=\"k\", zorder=1)\n",
    "                tbox = ax.text(start, labelheight, gene.split(\"_\")[1])\n",
    "                labelheight -= 0.025 * (ylims[1] - ylims[0])\n",
    "            prev_start, prev_end = start, end\n",
    "    \n",
    "    ax.set_xlabel(f\"position\")\n",
    "    ax.set_ylabel(\"read count\")\n",
    "    title = key\n",
    "    subtitle = array.removeprefix(\"coverage_arrays_\").removesuffix(\".npz\")\n",
    "    ax.set_title(title + \"\\n\" + subtitle)\n",
    "\n",
    "    plt.savefig(f\"{imgdir}/{array.replace(\".npz\", \"\")}.png\")\n",
    "    plt.close()\n"
   ]
  },
  {
   "cell_type": "code",
   "execution_count": 10,
   "id": "b30c018c",
   "metadata": {},
   "outputs": [
    {
     "data": {
      "application/vnd.jupyter.widget-view+json": {
       "model_id": "ceec630acfd34d5cbd965c0291d277b2",
       "version_major": 2,
       "version_minor": 0
      },
      "text/plain": [
       "  0%|          | 0/30 [00:00<?, ?it/s]"
      ]
     },
     "metadata": {},
     "output_type": "display_data"
    }
   ],
   "source": [
    "bin_frac = 0.001\n",
    "for array in tqdm.tqdm(array_list, total=len(array_list), disable=DISABLE_PBAR):\n",
    "    x = np.load(f\"{outdir}/{array}\", allow_pickle=True)[key]\n",
    "\n",
    "    fig, ax = plt.subplots(1, 1, figsize=(8,6))\n",
    "    n = len(x)\n",
    "    binsize = int(np.ceil(bin_frac * n))\n",
    "    nbins = n // binsize + (n % binsize != 0)\n",
    "    remainder = n % binsize\n",
    "    if remainder > 0:\n",
    "        x = np.concatenate([x, np.zeros(binsize - remainder)])\n",
    "    xmaxed = x.reshape([-1, binsize]).max(axis=1)\n",
    "    # Plot base coverage\n",
    "    ax.plot(np.arange(1, len(xmaxed) + 1), xmaxed, '.')\n",
    "    \n",
    "    # Add annotations\n",
    "    annotations = REGION_MAPPING.get(key, {})\n",
    "    ylims = ax.get_ylim()\n",
    "    labelheight = ylims[1] - 0.025 * (ylims[1] - ylims[0])\n",
    "    for gene in annotations:\n",
    "        prev_start, prev_end = -1, -1\n",
    "        regions = annotations[gene]\n",
    "        for region in regions:\n",
    "            start, end = region\n",
    "            start = 1 + start // binsize\n",
    "            end = 1 + end // binsize\n",
    "            if prev_start != start or prev_end != end:\n",
    "                ax.axvline(start, *ylims, linestyle=\":\", color=\"k\", zorder=1)\n",
    "                ax.axvline(end, *ylims, linestyle=\":\", color=\"k\", zorder=1)\n",
    "                tbox = ax.text(start, labelheight, gene.split(\"_\")[1])\n",
    "                labelheight -= 0.025 * (ylims[1] - ylims[0])\n",
    "            prev_start, prev_end = start, end\n",
    "    \n",
    "    ax.set_xlabel(f\"bin (size {binsize})\")\n",
    "    ax.set_ylabel(\"read count\")\n",
    "    title = key\n",
    "    subtitle = array.removeprefix(\"coverage_arrays_\").removesuffix(\".npz\")\n",
    "    ax.set_title(title + \"\\n\" + subtitle)\n",
    "\n",
    "    plt.savefig(f\"{imgdir}/{array.replace(\".npz\", \"\")}_binned.png\")\n",
    "    plt.close()\n"
   ]
  },
  {
   "cell_type": "code",
   "execution_count": null,
   "id": "7bf39d8e",
   "metadata": {},
   "outputs": [],
   "source": []
  }
 ],
 "metadata": {
  "kernelspec": {
   "display_name": "Python 3",
   "language": "python",
   "name": "python3"
  },
  "language_info": {
   "codemirror_mode": {
    "name": "ipython",
    "version": 3
   },
   "file_extension": ".py",
   "mimetype": "text/x-python",
   "name": "python",
   "nbconvert_exporter": "python",
   "pygments_lexer": "ipython3",
   "version": "3.12.11"
  }
 },
 "nbformat": 4,
 "nbformat_minor": 5
}
