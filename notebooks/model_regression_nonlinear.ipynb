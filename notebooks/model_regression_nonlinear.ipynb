{
 "cells": [
  {
   "cell_type": "markdown",
   "id": "7743c280",
   "metadata": {},
   "source": [
    "### Perform 1st and 2nd Order LASSO on rates and data from model 0"
   ]
  },
  {
   "cell_type": "code",
   "execution_count": 17,
   "id": "d8de3152",
   "metadata": {},
   "outputs": [],
   "source": [
    "import os, sys\n",
    "import time\n",
    "import csv\n",
    "import tqdm.notebook as tqdm\n",
    "import numpy as np\n",
    "import pandas as pd\n",
    "import matplotlib.pyplot as plt\n",
    "from mpl_toolkits.axes_grid1 import make_axes_locatable\n",
    "from scipy.optimize import curve_fit\n",
    "from sklearn import linear_model\n",
    "from sklearn.decomposition import PCA\n",
    "import warnings\n",
    "from sklearn.exceptions import ConvergenceWarning\n",
    "\n",
    "from mgsa.io import samples_from_soils, get_function, get_data\n",
    "from mgsa.modeling import Model\n",
    "from mgsa.helpers import plot"
   ]
  },
  {
   "cell_type": "markdown",
   "id": "41d7dbdf",
   "metadata": {},
   "source": [
    "### First load in X (variants) and Y (targets) for CHL +/-"
   ]
  },
  {
   "cell_type": "code",
   "execution_count": 5,
   "id": "56efafc9",
   "metadata": {},
   "outputs": [
    {
     "name": "stdout",
     "output_type": "stream",
     "text": [
      "Group 1: 14 ORFs\n",
      "Group 2: 4 ORFs\n",
      "Group 3: 4 ORFs\n",
      "Group 4: 8 ORFs\n",
      "Group 5: 6 ORFs\n",
      "Group 6: 6 ORFs\n",
      "Group 7: 15 ORFs\n",
      "  Total: 57\n",
      "Group 1: 6 ORFs\n",
      "Group 2: 19 ORFs\n",
      "Group 3: 8 ORFs\n",
      "Group 4: 6 ORFs\n",
      "Group 5: 10 ORFs\n",
      "Group 6: 7 ORFs\n",
      "Group 7: 6 ORFs\n",
      "  Total: 62\n"
     ]
    }
   ],
   "source": [
    "NARG_INFO = {\n",
    "    \"KO\": \"K00370\",\n",
    "    \"ORF_GROUPS_FPATH\": \"../out/groups/assignments_K00370_v1.tsv\"\n",
    "}\n",
    "\n",
    "NIRB_INFO = {\n",
    "    \"KO\": \"K00362\",\n",
    "    \"ORF_GROUPS_FPATH\": \"../out/groups/assignments_K00362_v1.tsv\"\n",
    "}\n",
    "\n",
    "NATIVE_IDXS = [2, 4, 5, 8, 10, 11, 13, 14, 15, 16]\n",
    "NATIVE_PHS = np.array([5.0, 5.3, 5.41, 5.8, 6.15, 6.3, 6.5, 6.75, 6.9,  7.1])\n",
    "PERTURBED_PHS = np.linspace(3.8, 8.4, 11)\n",
    "\n",
    "OUTDIR = \"../out/model_regression/nar\"\n",
    "IMGDIR = f\"{OUTDIR}/images\"\n",
    "os.makedirs(OUTDIR, exist_ok=True)\n",
    "os.makedirs(IMGDIR, exist_ok=True)\n",
    "\n",
    "def texify(param_name):\n",
    "    return {\n",
    "        \"gamma_A\": \"\\\\gamma_{{A}}\", \n",
    "        \"gamma_I\": \"\\\\gamma_{{I}}\", \n",
    "        \"r_A\": \"r_{{A}}\", \n",
    "        \"r_I1\": \"r_{{I1}}\", \n",
    "        \"r_I2\": \"r_{{I2}}\", \n",
    "        \"K_A\": \"K_{{A}}\", \n",
    "        \"K_I\": \"K_{{I}}\", \n",
    "        \"mu\": \"\\\\mu\", \n",
    "    }[param_name]\n",
    "\n",
    "t_data_drug = np.linspace(0, 19, 20)\n",
    "\n",
    "soils = [\n",
    "    'Soil3', 'Soil5', 'Soil6', 'Soil9', 'Soil11', \n",
    "    'Soil12', 'Soil14', 'Soil15', 'Soil16', 'Soil17'\n",
    "]\n",
    "\n",
    "\n",
    "\n",
    "def load_orf_groups(fpath) -> tuple[dict[int:str], np.ndarray[int]]:\n",
    "    groups = {}\n",
    "    idxs = []\n",
    "    with open(fpath, \"r\") as f:\n",
    "        csvreader = csv.reader(f, delimiter=\" \")\n",
    "        for row in csvreader:  # process each row\n",
    "            orf = row[0]\n",
    "            gidx = int(row[1])\n",
    "            if gidx in groups:\n",
    "                groups[gidx].append(orf)\n",
    "            else:\n",
    "                groups[gidx] = [orf]\n",
    "                idxs.append(gidx)\n",
    "    return groups, np.sort(idxs)\n",
    "\n",
    "##############################################################################\n",
    "##  Collect narG data\n",
    "\n",
    "# Load ORF groups for narG\n",
    "groups, group_idxs = load_orf_groups(NARG_INFO[\"ORF_GROUPS_FPATH\"])\n",
    "total = 0\n",
    "for gidx in group_idxs:\n",
    "    group = groups[gidx]\n",
    "    n = len(group)\n",
    "    print(f\"Group {gidx}: {n} ORFs\")\n",
    "    total += n\n",
    "print(f\"  Total: {total}\")\n",
    "\n",
    "# Aggregate T0 and T9 expression data in the CHL+ and CHL- conditions\n",
    "gidx2exp_chl_pos_t0 = {gidx: [] for gidx in group_idxs}\n",
    "gidx2exp_chl_pos_t9 = {gidx: [] for gidx in group_idxs}\n",
    "gidx2exp_chl_neg_t0 = {gidx: [] for gidx in group_idxs}\n",
    "gidx2exp_chl_neg_t9 = {gidx: [] for gidx in group_idxs}\n",
    "for gidx in group_idxs:\n",
    "    group = groups[gidx]\n",
    "    for i, orf in enumerate(group):\n",
    "        data_chl_pos_t0, data_chl_pos_t9 = get_data(\n",
    "            orf, \n",
    "            DATDIR='../out', \n",
    "            KO=NARG_INFO[\"KO\"], \n",
    "            drug='CHL', \n",
    "            map='09',\n",
    "        )\n",
    "        data_chl_neg_t0, data_chl_neg_t9 = get_data(\n",
    "            orf, \n",
    "            DATDIR='../out', \n",
    "            KO=NARG_INFO[\"KO\"], \n",
    "            drug='None', \n",
    "            map='09',\n",
    "        )\n",
    "        # Subset T0 samples to those of interest\n",
    "        data_chl_pos_t0 = data_chl_pos_t0[NATIVE_IDXS]\n",
    "        data_chl_neg_t0 = data_chl_neg_t0[NATIVE_IDXS]\n",
    "\n",
    "        gidx2exp_chl_pos_t0[gidx].append(data_chl_pos_t0)\n",
    "        gidx2exp_chl_pos_t9[gidx].append(data_chl_pos_t9)\n",
    "        gidx2exp_chl_neg_t0[gidx].append(data_chl_neg_t0)\n",
    "        gidx2exp_chl_neg_t9[gidx].append(data_chl_neg_t9)\n",
    "\n",
    "    # Sum the expression data in each group\n",
    "    gidx2exp_chl_pos_t0[gidx] = np.sum(gidx2exp_chl_pos_t0[gidx], axis=0)\n",
    "    gidx2exp_chl_pos_t9[gidx] = np.sum(gidx2exp_chl_pos_t9[gidx], axis=0)\n",
    "    gidx2exp_chl_neg_t0[gidx] = np.sum(gidx2exp_chl_neg_t0[gidx], axis=0)\n",
    "    gidx2exp_chl_neg_t9[gidx] = np.sum(gidx2exp_chl_neg_t9[gidx], axis=0)\n",
    "\n",
    "# Check lengths are correct\n",
    "for gidx in group_idxs:\n",
    "    assert gidx2exp_chl_pos_t0[gidx].shape == (10,), \"Wrong shape for t0 pos\"\n",
    "    assert gidx2exp_chl_pos_t9[gidx].shape == (10,11), \"Wrong shape for t9 pos\"\n",
    "    assert gidx2exp_chl_neg_t0[gidx].shape == (10,), \"Wrong shape for t0 neg\"\n",
    "    assert gidx2exp_chl_neg_t9[gidx].shape == (10,11), \"Wrong shape for t9 neg\"\n",
    "\n",
    "# Construct arrays of aggregated soil expression levels. The last axis \n",
    "# corresponds to the groups.\n",
    "nar_exp_chl_pos_t0 = np.zeros([10, len(group_idxs)])\n",
    "nar_exp_chl_pos_t9 = np.zeros([10, 11, len(group_idxs)])\n",
    "nar_exp_chl_neg_t0 = np.zeros([10, len(group_idxs)])\n",
    "nar_exp_chl_neg_t9 = np.zeros([10, 11, len(group_idxs)])\n",
    "for i, gidx in enumerate(group_idxs):\n",
    "    nar_exp_chl_pos_t0[...,i] = gidx2exp_chl_pos_t0[gidx]\n",
    "    nar_exp_chl_pos_t9[...,i] = gidx2exp_chl_pos_t9[gidx]\n",
    "    nar_exp_chl_neg_t0[...,i] = gidx2exp_chl_neg_t0[gidx]\n",
    "    nar_exp_chl_neg_t9[...,i] = gidx2exp_chl_neg_t9[gidx]\n",
    "\n",
    "##############################################################################\n",
    "##  Collect nirB data\n",
    "\n",
    "# Load ORF groups for nirB\n",
    "groups, group_idxs = load_orf_groups(NIRB_INFO[\"ORF_GROUPS_FPATH\"])\n",
    "total = 0\n",
    "for gidx in group_idxs:\n",
    "    group = groups[gidx]\n",
    "    n = len(group)\n",
    "    print(f\"Group {gidx}: {n} ORFs\")\n",
    "    total += n\n",
    "print(f\"  Total: {total}\")\n",
    "\n",
    "# Aggregate T0 and T9 expression data in the CHL+ and CHL- conditions\n",
    "gidx2exp_chl_pos_t0 = {gidx: [] for gidx in group_idxs}\n",
    "gidx2exp_chl_pos_t9 = {gidx: [] for gidx in group_idxs}\n",
    "gidx2exp_chl_neg_t0 = {gidx: [] for gidx in group_idxs}\n",
    "gidx2exp_chl_neg_t9 = {gidx: [] for gidx in group_idxs}\n",
    "for gidx in group_idxs:\n",
    "    group = groups[gidx]\n",
    "    for i, orf in enumerate(group):\n",
    "        data_chl_pos_t0, data_chl_pos_t9 = get_data(\n",
    "            orf, \n",
    "            DATDIR='../out', \n",
    "            KO=NIRB_INFO[\"KO\"], \n",
    "            drug='CHL', \n",
    "            map='09',\n",
    "        )\n",
    "        data_chl_neg_t0, data_chl_neg_t9 = get_data(\n",
    "            orf, \n",
    "            DATDIR='../out', \n",
    "            KO=NIRB_INFO[\"KO\"], \n",
    "            drug='None', \n",
    "            map='09',\n",
    "        )\n",
    "        # Subset T0 samples to those of interest\n",
    "        data_chl_pos_t0 = data_chl_pos_t0[NATIVE_IDXS]\n",
    "        data_chl_neg_t0 = data_chl_neg_t0[NATIVE_IDXS]\n",
    "\n",
    "        gidx2exp_chl_pos_t0[gidx].append(data_chl_pos_t0)\n",
    "        gidx2exp_chl_pos_t9[gidx].append(data_chl_pos_t9)\n",
    "        gidx2exp_chl_neg_t0[gidx].append(data_chl_neg_t0)\n",
    "        gidx2exp_chl_neg_t9[gidx].append(data_chl_neg_t9)\n",
    "\n",
    "    # Sum the expression data in each group\n",
    "    gidx2exp_chl_pos_t0[gidx] = np.sum(gidx2exp_chl_pos_t0[gidx], axis=0)\n",
    "    gidx2exp_chl_pos_t9[gidx] = np.sum(gidx2exp_chl_pos_t9[gidx], axis=0)\n",
    "    gidx2exp_chl_neg_t0[gidx] = np.sum(gidx2exp_chl_neg_t0[gidx], axis=0)\n",
    "    gidx2exp_chl_neg_t9[gidx] = np.sum(gidx2exp_chl_neg_t9[gidx], axis=0)\n",
    "\n",
    "# Check lengths are correct\n",
    "for gidx in group_idxs:\n",
    "    assert gidx2exp_chl_pos_t0[gidx].shape == (10,), \"Wrong shape for t0 pos\"\n",
    "    assert gidx2exp_chl_pos_t9[gidx].shape == (10,11), \"Wrong shape for t9 pos\"\n",
    "    assert gidx2exp_chl_neg_t0[gidx].shape == (10,), \"Wrong shape for t0 neg\"\n",
    "    assert gidx2exp_chl_neg_t9[gidx].shape == (10,11), \"Wrong shape for t9 neg\"\n",
    "\n",
    "# Construct arrays of aggregated soil expression levels. The last axis \n",
    "# corresponds to the groups.\n",
    "nir_exp_chl_pos_t0 = np.zeros([10, len(group_idxs)])\n",
    "nir_exp_chl_pos_t9 = np.zeros([10, 11, len(group_idxs)])\n",
    "nir_exp_chl_neg_t0 = np.zeros([10, len(group_idxs)])\n",
    "nir_exp_chl_neg_t9 = np.zeros([10, 11, len(group_idxs)])\n",
    "for i, gidx in enumerate(group_idxs):\n",
    "    nir_exp_chl_pos_t0[...,i] = gidx2exp_chl_pos_t0[gidx]\n",
    "    nir_exp_chl_pos_t9[...,i] = gidx2exp_chl_pos_t9[gidx]\n",
    "    nir_exp_chl_neg_t0[...,i] = gidx2exp_chl_neg_t0[gidx]\n",
    "    nir_exp_chl_neg_t9[...,i] = gidx2exp_chl_neg_t9[gidx]\n"
   ]
  },
  {
   "cell_type": "code",
   "execution_count": null,
   "id": "08ebb015",
   "metadata": {},
   "outputs": [
    {
     "name": "stdout",
     "output_type": "stream",
     "text": [
      "(10, 11, 7)\n"
     ]
    }
   ],
   "source": [
    "##############################################################################\n",
    "##  Normalize narG expression levels\n",
    "nar_rel_exp_chl_pos_t0 = nar_exp_chl_pos_t0 / np.sum(nar_exp_chl_pos_t0, -1)[...,None]\n",
    "nar_rel_exp_chl_pos_t0 = nar_rel_exp_chl_pos_t0[:, np.newaxis, :]\n",
    "nar_rel_exp_chl_pos_t0 = np.broadcast_to(nar_rel_exp_chl_pos_t0, (10, 11, 7))\n",
    "\n",
    "##############################################################################\n",
    "##  Normalize nirB expression levels\n",
    "nir_rel_exp_chl_pos_t0 = nir_exp_chl_pos_t0 / np.sum(nir_exp_chl_pos_t0, -1)[...,None]\n",
    "nir_rel_exp_chl_pos_t0 = nir_rel_exp_chl_pos_t0[:, np.newaxis, :]\n",
    "nir_rel_exp_chl_pos_t0 = np.broadcast_to(nir_rel_exp_chl_pos_t0, (10, 11, 7))\n",
    "\n",
    "##############################################################################\n",
    "##  Normalize narG expression levels\n",
    "nar_rel_exp_chl_neg_t0 = nar_exp_chl_neg_t0 / np.sum(nar_exp_chl_neg_t0, -1)[...,None]\n",
    "nar_rel_exp_chl_neg_t0 = nar_rel_exp_chl_neg_t0[:, np.newaxis, :]\n",
    "nar_rel_exp_chl_neg_t0 = np.broadcast_to(nar_rel_exp_chl_neg_t0, (10, 11, 7))\n",
    "\n",
    "##############################################################################\n",
    "##  Normalize nirB expression levels\n",
    "nir_rel_exp_chl_neg_t0 = nir_exp_chl_neg_t0 / np.sum(nir_exp_chl_neg_t0, -1)[...,None]\n",
    "nir_rel_exp_chl_neg_t0 = nir_rel_exp_chl_neg_t0[:, np.newaxis, :]\n",
    "nir_rel_exp_chl_neg_t0 = np.broadcast_to(nir_rel_exp_chl_neg_t0, (10, 11, 7))\n",
    "\n",
    "##############################################################################\n",
    "##  Normalize narG expression levels\n",
    "\n",
    "nar_rel_exp_chl_neg_t9 = nar_exp_chl_neg_t9 / np.sum(nar_exp_chl_neg_t9, -1)[...,None]\n",
    "\n",
    "##############################################################################\n",
    "##  Normalize nirB expression levels\n",
    "nir_rel_exp_chl_neg_t9 = nir_exp_chl_neg_t9 / np.sum(nir_exp_chl_neg_t9, -1)[...,None]\n",
    "\n",
    "X_NAR_CHL_POS = nar_rel_exp_chl_pos_t0\n",
    "X_NIR_CHL_POS = nir_rel_exp_chl_pos_t0\n",
    "X_NAR_CHL_NEG = np.concatenate([nar_rel_exp_chl_neg_t0, nar_rel_exp_chl_neg_t9], axis = -1)\n",
    "X_NIR_CHL_NEG = np.concatenate([nir_rel_exp_chl_neg_t0, nir_rel_exp_chl_neg_t9], axis = -1)"
   ]
  },
  {
   "cell_type": "markdown",
   "id": "b85e774e",
   "metadata": {},
   "source": [
    "### Collect Metabolic Parameters (Target for Regression)"
   ]
  },
  {
   "cell_type": "code",
   "execution_count": 28,
   "id": "0e4b1c47",
   "metadata": {},
   "outputs": [],
   "source": [
    "rA_chl_pos = pd.read_csv('../out/metabolic_parameters/rA_model0_chl_pos.tsv', sep = '\\t', header = None).values\n",
    "rI_chl_pos = pd.read_csv('../out/metabolic_parameters/rI_model0_chl_pos.tsv', sep = '\\t', header = None).values\n",
    "rA_chl_neg = pd.read_csv('../out/metabolic_parameters/rA_model0_chl_neg.tsv', sep = '\\t', header = None).values\n",
    "rI_chl_neg = pd.read_csv('../out/metabolic_parameters/rI_model0_chl_neg.tsv', sep = '\\t', header = None).values\n",
    "\n",
    "Y_CHL_POS = np.concatenate([rA_chl_pos[..., np.newaxis], rI_chl_pos[..., np.newaxis]], axis = -1)\n",
    "Y_CHL_NEG = np.concatenate([rA_chl_neg[..., np.newaxis], rI_chl_neg[..., np.newaxis]], axis = -1)"
   ]
  },
  {
   "cell_type": "markdown",
   "id": "64a61433",
   "metadata": {},
   "source": [
    "### Perform 1st order LASSO on CHL+ data\n",
    "\n",
    "And do that per column (fixed pH sets)"
   ]
  },
  {
   "cell_type": "code",
   "execution_count": 29,
   "id": "c92123de",
   "metadata": {},
   "outputs": [
    {
     "name": "stdout",
     "output_type": "stream",
     "text": [
      "--------------------------------------------------\n",
      "NAR\n",
      "Coefficients (7,):\n",
      " [ 2.29667223e+00  0.00000000e+00 -0.00000000e+00  1.93269990e-04\n",
      "  0.00000000e+00  0.00000000e+00 -6.56333253e-02]\n",
      "Intercepts: ()\n",
      " 0.07775391337947779\n",
      "Coefficients (7,):\n",
      " [ 2.78471778  0.          0.          0.          0.          0.\n",
      " -0.48709624]\n",
      "Intercepts: ()\n",
      " 0.14058394782973682\n",
      "Coefficients (7,):\n",
      " [ 1.31722728  0.         -0.         -0.          0.          0.\n",
      " -0.        ]\n",
      "Intercepts: ()\n",
      " 0.04849172590139583\n",
      "Coefficients (7,):\n",
      " [ 1.01042374  0.          0.         -0.          0.          0.\n",
      " -0.06875318]\n",
      "Intercepts: ()\n",
      " 0.13412871141177474\n",
      "Coefficients (7,):\n",
      " [ 0.65205978  0.         -0.          0.01241018  0.          0.\n",
      " -0.05885064]\n",
      "Intercepts: ()\n",
      " 0.18968542541895828\n",
      "Coefficients (7,):\n",
      " [ 0.35932666  0.         -0.02744414  0.1700006   0.          0.\n",
      " -0.03351705]\n",
      "Intercepts: ()\n",
      " 0.2558909943742406\n",
      "Coefficients (7,):\n",
      " [ 0.05618775  0.         -0.          0.25873268  0.          0.\n",
      " -0.132649  ]\n",
      "Intercepts: ()\n",
      " 0.3895499379252656\n",
      "Coefficients (7,):\n",
      " [-0.06234436  0.          0.          0.32220725  0.          0.\n",
      " -0.        ]\n",
      "Intercepts: ()\n",
      " 0.4032313832588575\n",
      "Coefficients (7,):\n",
      " [-0.05709591  0.          0.          0.49264751  0.          0.\n",
      " -0.        ]\n",
      "Intercepts: ()\n",
      " 0.3852039075206496\n",
      "Coefficients (7,):\n",
      " [-0.01325749  0.         -1.70375853  1.10384094  0.          0.\n",
      "  0.418238  ]\n",
      "Intercepts: ()\n",
      " 0.8942877505593309\n",
      "Coefficients (7,):\n",
      " [ 7.60637372  0.          2.99443652 -0.21856858  0.          0.\n",
      " -3.33775341]\n",
      "Intercepts: ()\n",
      " 1.1823663467158552\n",
      "--------------------------------------------------\n",
      "--------------------------------------------------\n",
      "NIR\n",
      "Coefficients (7,):\n",
      " [ -36.25290968    0.         -157.15869805   41.44880913  -66.77381681\n",
      "    0.            0.        ]\n",
      "Intercepts: ()\n",
      " 33.92426051492481\n",
      "Coefficients (7,):\n",
      " [-167.38330914   -0.          -91.08596532   85.26764664 -127.32700106\n",
      "   38.38806659   77.62765444]\n",
      "Intercepts: ()\n",
      " 23.30750964977081\n",
      "Coefficients (7,):\n",
      " [-85.39284195  20.12280918  -7.94480145  79.79608542  -0.\n",
      " -14.17824693  97.05949296]\n",
      "Intercepts: ()\n",
      " -13.712531658826546\n",
      "Coefficients (7,):\n",
      " [-86.73837433   5.29693477  -0.          52.87153461 -25.12375753\n",
      " -16.88483439  74.96225317]\n",
      "Intercepts: ()\n",
      " -0.9669167826769334\n",
      "Coefficients (7,):\n",
      " [-22.98894346  -0.           0.07292012  14.65193864  -4.79505085\n",
      "  -0.          24.01665365]\n",
      "Intercepts: ()\n",
      " -0.29009881177457286\n",
      "Coefficients (7,):\n",
      " [-2.39529155 -0.2769151  -0.          1.96944939  0.         -0.\n",
      "  5.17430716]\n",
      "Intercepts: ()\n",
      " 0.4308767452321344\n",
      "Coefficients (7,):\n",
      " [-0.         -0.         -0.02604834 -0.          0.          0.\n",
      "  0.06001768]\n",
      "Intercepts: ()\n",
      " 0.5513168633412386\n",
      "Coefficients (7,):\n",
      " [-0.  0. -0.  0.  0.  0. -0.]\n",
      "Intercepts: ()\n",
      " 0.37905599999999995\n",
      "Coefficients (7,):\n",
      " [-0. -0.  0.  0.  0.  0. -0.]\n",
      "Intercepts: ()\n",
      " 0.29066439999999993\n",
      "Coefficients (7,):\n",
      " [  0.          19.79675193 -92.30864036  51.18750992  16.60757974\n",
      " -92.5060331  -31.39901676]\n",
      "Intercepts: ()\n",
      " 8.533553573390156\n",
      "Coefficients (7,):\n",
      " [-78.98973969  -0.          28.66742807  -8.65168233  18.77732087\n",
      "  -0.          19.79904481]\n",
      "Intercepts: ()\n",
      " 12.170077756827975\n",
      "--------------------------------------------------\n"
     ]
    }
   ],
   "source": [
    "##############################################################################\n",
    "### Lasso for NAR, NIR CHL+ case\n",
    "\n",
    "ALPHA = 0.0025  # Regularization strength\n",
    "\n",
    "clf_nar = []\n",
    "clf_nir = []\n",
    "for i in range(11):\n",
    "    clf = linear_model.Lasso(alpha=ALPHA)\n",
    "    clf.fit(X_NAR_CHL_POS[:,i,:], Y_CHL_POS[:,i,0])\n",
    "    clf_nar.append(clf)\n",
    "    clf = linear_model.Lasso(alpha=ALPHA)\n",
    "    clf.fit(X_NIR_CHL_POS[:,i,:], Y_CHL_POS[:,i,1])\n",
    "    clf_nir.append(clf)\n",
    "\n",
    "print(\"--------------------------------------------------\")\n",
    "print(\"NAR\")\n",
    "for i in range(11):\n",
    "    print(f\"Coefficients {clf_nar[i].coef_.shape}:\\n\", clf_nar[i].coef_)\n",
    "    print(f\"Intercepts: {clf_nar[i].intercept_.shape}\\n\", clf_nar[i].intercept_)\n",
    "print(\"--------------------------------------------------\")\n",
    "\n",
    "print(\"--------------------------------------------------\")\n",
    "print(\"NIR\")\n",
    "for i in range(11):\n",
    "    print(f\"Coefficients {clf_nir[i].coef_.shape}:\\n\", clf_nir[i].coef_)\n",
    "    print(f\"Intercepts: {clf_nir[i].intercept_.shape}\\n\", clf_nir[i].intercept_)\n",
    "print(\"--------------------------------------------------\")\n"
   ]
  },
  {
   "cell_type": "markdown",
   "id": "58738ca9",
   "metadata": {},
   "source": [
    "### Collect LASSO-predicted rate parameters"
   ]
  },
  {
   "cell_type": "code",
   "execution_count": 30,
   "id": "c62f74eb",
   "metadata": {},
   "outputs": [
    {
     "data": {
      "application/vnd.jupyter.widget-view+json": {
       "model_id": "93bf4faf76e34f138c965d7a27b2ff2d",
       "version_major": 2,
       "version_minor": 0
      },
      "text/plain": [
       "native:   0%|          | 0/10 [00:00<?, ?it/s]"
      ]
     },
     "metadata": {},
     "output_type": "display_data"
    },
    {
     "data": {
      "application/vnd.jupyter.widget-view+json": {
       "model_id": "00cb31fea6c9445f915656303012b75d",
       "version_major": 2,
       "version_minor": 0
      },
      "text/plain": [
       "perturbed:   0%|          | 0/11 [00:00<?, ?it/s]"
      ]
     },
     "metadata": {},
     "output_type": "display_data"
    },
    {
     "data": {
      "application/vnd.jupyter.widget-view+json": {
       "model_id": "4ab4d4d3a2cb46f7b6417f64b0c76ad6",
       "version_major": 2,
       "version_minor": 0
      },
      "text/plain": [
       "perturbed:   0%|          | 0/11 [00:00<?, ?it/s]"
      ]
     },
     "metadata": {},
     "output_type": "display_data"
    },
    {
     "data": {
      "application/vnd.jupyter.widget-view+json": {
       "model_id": "aa9889eee1f54f5b86eb5a5313013bb5",
       "version_major": 2,
       "version_minor": 0
      },
      "text/plain": [
       "perturbed:   0%|          | 0/11 [00:00<?, ?it/s]"
      ]
     },
     "metadata": {},
     "output_type": "display_data"
    },
    {
     "data": {
      "application/vnd.jupyter.widget-view+json": {
       "model_id": "7109bd2ce8b74cd5bd43e7e57cf5aa86",
       "version_major": 2,
       "version_minor": 0
      },
      "text/plain": [
       "perturbed:   0%|          | 0/11 [00:00<?, ?it/s]"
      ]
     },
     "metadata": {},
     "output_type": "display_data"
    },
    {
     "data": {
      "application/vnd.jupyter.widget-view+json": {
       "model_id": "ad783e5b98ba401aaac3eebd2a5dfa70",
       "version_major": 2,
       "version_minor": 0
      },
      "text/plain": [
       "perturbed:   0%|          | 0/11 [00:00<?, ?it/s]"
      ]
     },
     "metadata": {},
     "output_type": "display_data"
    },
    {
     "data": {
      "application/vnd.jupyter.widget-view+json": {
       "model_id": "10c2ba4426f64681801190d1ec5d6952",
       "version_major": 2,
       "version_minor": 0
      },
      "text/plain": [
       "perturbed:   0%|          | 0/11 [00:00<?, ?it/s]"
      ]
     },
     "metadata": {},
     "output_type": "display_data"
    },
    {
     "data": {
      "application/vnd.jupyter.widget-view+json": {
       "model_id": "53a92373cd664bfbbdde691ac9149399",
       "version_major": 2,
       "version_minor": 0
      },
      "text/plain": [
       "perturbed:   0%|          | 0/11 [00:00<?, ?it/s]"
      ]
     },
     "metadata": {},
     "output_type": "display_data"
    },
    {
     "data": {
      "application/vnd.jupyter.widget-view+json": {
       "model_id": "0925486598e64f2889a7d784e97bbb1e",
       "version_major": 2,
       "version_minor": 0
      },
      "text/plain": [
       "perturbed:   0%|          | 0/11 [00:00<?, ?it/s]"
      ]
     },
     "metadata": {},
     "output_type": "display_data"
    },
    {
     "data": {
      "application/vnd.jupyter.widget-view+json": {
       "model_id": "63aac1e62bc94e89b9c84c5de24d02d8",
       "version_major": 2,
       "version_minor": 0
      },
      "text/plain": [
       "perturbed:   0%|          | 0/11 [00:00<?, ?it/s]"
      ]
     },
     "metadata": {},
     "output_type": "display_data"
    },
    {
     "data": {
      "application/vnd.jupyter.widget-view+json": {
       "model_id": "c1f2d5e903f84f25aed5c562ab803345",
       "version_major": 2,
       "version_minor": 0
      },
      "text/plain": [
       "perturbed:   0%|          | 0/11 [00:00<?, ?it/s]"
      ]
     },
     "metadata": {},
     "output_type": "display_data"
    }
   ],
   "source": [
    "rA_grid = np.zeros((10,11))\n",
    "rI_grid = np.zeros((10,11))\n",
    "X_NIR = nir_rel_exp_chl_pos_t0\n",
    "X_NAR = nar_rel_exp_chl_pos_t0\n",
    "for native in tqdm.trange(10, desc=\"native\", leave=False):\n",
    "        for pert in tqdm.trange(11, desc=\"perturbed\", leave=False):\n",
    "            rA_pred = 0\n",
    "            rI_pred = 0\n",
    "            for i in range(len(group_idxs)):\n",
    "                rA_pred += X_NAR[native, pert, i]*clf_nar[pert].coef_[i]\n",
    "                rI_pred += X_NIR[native, pert, i]*clf_nir[pert].coef_[i]  \n",
    "            rA_pred += clf_nar[pert].intercept_\n",
    "            rI_pred += clf_nir[pert].intercept_\n",
    "            y_pred = [rA_pred, rI_pred]\n",
    "            rA_grid[native, pert] = rA_pred\n",
    "            rI_grid[native, pert] = rI_pred\n"
   ]
  },
  {
   "cell_type": "markdown",
   "id": "25b8dc7f",
   "metadata": {},
   "source": [
    "### Make a plot comparing predicted to fitted rA and rI"
   ]
  },
  {
   "cell_type": "code",
   "execution_count": null,
   "id": "a5a45201",
   "metadata": {},
   "outputs": [
    {
     "data": {
      "image/png": "[encoded data removed]",
      "text/plain": [
       "<Figure size 640x480 with 1 Axes>"
      ]
     },
     "metadata": {},
     "output_type": "display_data"
    },
    {
     "data": {
      "image/png": "[encoded data removed]",
      "text/plain": [
       "<Figure size 640x480 with 1 Axes>"
      ]
     },
     "metadata": {},
     "output_type": "display_data"
    }
   ],
   "source": [
    "\n",
    "x_nar = np.zeros(110)\n",
    "y_nar = np.zeros(110)\n",
    "x_nir = np.zeros(110)\n",
    "y_nir = np.zeros(110)\n",
    "x = np.linspace(0,20,10)\n",
    "y = np.linspace(0,20,10)\n",
    "for native in range(10):\n",
    "    for pert in range(11):\n",
    "        x_nar[10*native + pert] = Y_CHL_POS[native,pert, 0]\n",
    "        x_nir[10*native + pert] = Y_CHL_POS[native,pert, 1]\n",
    "        y_nar[10*native + pert] = rA_grid[native, pert]\n",
    "        y_nir[10*native + pert] = rI_grid[native, pert]\n",
    "        \n",
    "plt.scatter(x_nar, y_nar, color = 'Black')\n",
    "plt.plot(x,y, color = 'Black', alpha = 0.5)\n",
    "plt.xlabel('rA Observed')\n",
    "plt.ylabel('rA Predicted')\n",
    "plt.title('CHL_ LASSO prediction rA')\n",
    "plt.xlim(0,5)\n",
    "plt.ylim(0,5)\n",
    "plt.show()\n",
    "plt.scatter(x_nir, y_nir, color = 'Black')\n",
    "plt.plot(x,y, color = 'Black', alpha = 0.5)\n",
    "plt.xlabel('rI Observed')\n",
    "plt.ylabel('rI Predicted')\n",
    "plt.title('CHL+ LASSO prediction rI')\n",
    "plt.xlim(0,20)\n",
    "plt.ylim(0,20)\n",
    "plt.show()\n"
   ]
  },
  {
   "cell_type": "markdown",
   "id": "f69aa73c",
   "metadata": {},
   "source": [
    "### Perform first order LASSO on CHL - data"
   ]
  },
  {
   "cell_type": "code",
   "execution_count": 55,
   "id": "4716540c",
   "metadata": {},
   "outputs": [
    {
     "name": "stdout",
     "output_type": "stream",
     "text": [
      "--------------------------------------------------\n",
      "NAR\n",
      "Coefficients (14,):\n",
      " [ 0.77187759  0.         -0.69665286  0.19748231  0.          0.\n",
      " -0.         -0.          0.          0.         -0.          0.52575097\n",
      "  0.         -0.31288342]\n",
      "Intercepts: ()\n",
      " 0.32120182905372463\n",
      "Coefficients (14,):\n",
      " [ 0.63649461  0.         -0.         -0.          0.          0.\n",
      " -0.          0.13318919 -0.         -0.         -0.         -0.\n",
      " -0.          0.        ]\n",
      "Intercepts: ()\n",
      " 0.09965023981621818\n",
      "Coefficients (14,):\n",
      " [ 0.77015763  0.         -0.12650079  0.02522603  0.          0.\n",
      " -0.          0.08207316  0.          0.          0.62314287 -0.19672774\n",
      " -0.         -0.        ]\n",
      "Intercepts: ()\n",
      " 0.06755900730559816\n",
      "Coefficients (14,):\n",
      " [ 0.38670444  0.         -0.          0.          0.          0.\n",
      " -0.34803546  0.12897876 -0.         -0.          0.22947234 -0.\n",
      " -0.46825514 -0.        ]\n",
      "Intercepts: ()\n",
      " 0.32059800910532454\n",
      "Coefficients (14,):\n",
      " [ 0.06633109  0.         -0.          0.22168173  0.          0.\n",
      " -0.72124161  0.37670476 -0.11363035 -0.          0.68161012 -0.\n",
      " -0.         -0.        ]\n",
      "Intercepts: ()\n",
      " 0.38585379771787975\n",
      "Coefficients (14,):\n",
      " [ 0.16812186  0.         -0.          0.21384767  0.          0.\n",
      " -0.34475158  0.17236739 -0.13278097 -0.          0.          0.\n",
      " -0.         -0.        ]\n",
      "Intercepts: ()\n",
      " 0.39556398784734276\n",
      "Coefficients (14,):\n",
      " [ 0.          0.         -0.          0.2091448   0.          0.\n",
      " -0.52122992  0.23828766 -0.15952299  0.          0.          0.14270974\n",
      " -0.         -0.        ]\n",
      "Intercepts: ()\n",
      " 0.4897893506478954\n",
      "Coefficients (14,):\n",
      " [ 0.          0.         -0.          0.          0.          0.\n",
      " -0.17847342  0.07945351 -0.26896654  0.          0.          0.\n",
      " -0.         -0.13886547]\n",
      "Intercepts: ()\n",
      " 0.5378271031883357\n",
      "Coefficients (14,):\n",
      " [ 0.          0.         -0.          0.02300258  0.          0.\n",
      " -0.21427468  0.10095987 -0.07131305  0.         -0.          0.55299998\n",
      " -0.         -0.        ]\n",
      "Intercepts: ()\n",
      " 0.4832770227967534\n",
      "Coefficients (14,):\n",
      " [ 0.          0.         -0.00790757  0.          0.          0.\n",
      " -0.          0.          0.         -0.          0.          0.12749439\n",
      " -0.         -0.2352956 ]\n",
      "Intercepts: ()\n",
      " 0.5495748063076553\n",
      "Coefficients (14,):\n",
      " [ 0.00746224  0.         -0.         -0.          0.          0.\n",
      "  0.         -0.01336638 -0.         -0.          0.          0.\n",
      "  0.          0.        ]\n",
      "Intercepts: ()\n",
      " 0.45470117237582824\n",
      "--------------------------------------------------\n",
      "--------------------------------------------------\n",
      "NIR\n",
      "Coefficients (14,):\n",
      " [  80.71226738   51.71343653   -6.70543226  -12.50408397 -163.79380061\n",
      "    0.            0.          -65.53007231    0.          -39.38961754\n",
      "    0.           59.61334657   -7.29195513    3.04400299]\n",
      "Intercepts: ()\n",
      " 11.225198616250047\n",
      "Coefficients (14,):\n",
      " [ -0.          77.61831596  -3.23513241   0.         -63.70224883\n",
      "  -0.           5.9811896    0.         -39.74869907 -49.5307263\n",
      "   0.          23.42857774 -23.74357197   8.33788443]\n",
      "Intercepts: ()\n",
      " 9.495026057064827\n",
      "Coefficients (14,):\n",
      " [-18.25558847   6.87410343 -15.21751661  -0.           0.\n",
      "  -0.          11.40988486   0.           0.          -0.\n",
      "   0.89637419  -7.44343573  -2.43606703   6.44081094]\n",
      "Intercepts: ()\n",
      " 4.867075844253087\n",
      "Coefficients (14,):\n",
      " [ -0.74545915   0.           4.43031304  -0.           7.46634946\n",
      "  -0.          -0.79919095  14.09518093   0.         -53.67644043\n",
      "  13.71209    -24.35072129  -2.37976723   0.        ]\n",
      "Intercepts: ()\n",
      " 6.825300947003276\n",
      "Coefficients (14,):\n",
      " [-49.7990806    0.           6.36873538   0.          -0.\n",
      " -92.27122945   0.           7.03830056   0.         -70.32682832\n",
      "  18.6265261  -15.83047112 -10.40723721   0.89503077]\n",
      "Intercepts: ()\n",
      " 23.939060851156434\n",
      "Coefficients (14,):\n",
      " [-23.54977223   0.          25.50189165   0.          20.88519122\n",
      "  -0.          -4.09372708  48.81740523  -4.70922186 -76.51059443\n",
      "  11.404252     0.          -0.          -0.        ]\n",
      "Intercepts: ()\n",
      " 1.557212604170414\n",
      "Coefficients (14,):\n",
      " [ -7.89413202   0.           0.         -13.84983778   9.49183048\n",
      " -52.02407748   1.00109529  -0.           0.         -19.65147505\n",
      "  -0.         -19.77078204   0.79633046  20.29561747]\n",
      "Intercepts: ()\n",
      " 10.832342194593068\n",
      "Coefficients (14,):\n",
      " [ 13.60523503  -0.          -0.          -9.91310189   8.70150189\n",
      "  -0.          -0.           0.           0.80304539  -0.\n",
      "   0.          -6.66354721   2.85268299 -17.62210473]\n",
      "Intercepts: ()\n",
      " 2.274423167073536\n",
      "Coefficients (14,):\n",
      " [  0.19369437   2.35203211   0.37054163  -3.37078793  -0.\n",
      "  -2.05670438  -0.           0.          -3.44631209   0.\n",
      "   0.           0.          -2.54713765 -16.23466025]\n",
      "Intercepts: ()\n",
      " 4.159136375432404\n",
      "Coefficients (14,):\n",
      " [-0.          1.26383844  0.28476602 -1.71157382  0.         -0.\n",
      " -0.          0.          0.14381166  0.         -0.         -1.87665944\n",
      " -0.04306581  0.        ]\n",
      "Intercepts: ()\n",
      " 0.8134890140654597\n",
      "Coefficients (14,):\n",
      " [ 0.          0.         -1.97630944  0.         -6.91624981  0.\n",
      "  0.         -0.         -0.48118892 -0.          0.          0.\n",
      "  6.48537834  0.        ]\n",
      "Intercepts: ()\n",
      " 1.0300156653975656\n",
      "--------------------------------------------------\n"
     ]
    },
    {
     "name": "stderr",
     "output_type": "stream",
     "text": [
      "/Users/joelandsittel/Documents/soil/env/lib/python3.12/site-packages/sklearn/linear_model/_coordinate_descent.py:695: ConvergenceWarning: Objective did not converge. You might want to increase the number of iterations, check the scale of the features or consider increasing regularisation. Duality gap: 8.987e-02, tolerance: 5.506e-02\n",
      "  model = cd_fast.enet_coordinate_descent(\n",
      "/Users/joelandsittel/Documents/soil/env/lib/python3.12/site-packages/sklearn/linear_model/_coordinate_descent.py:695: ConvergenceWarning: Objective did not converge. You might want to increase the number of iterations, check the scale of the features or consider increasing regularisation. Duality gap: 1.413e-01, tolerance: 2.464e-02\n",
      "  model = cd_fast.enet_coordinate_descent(\n"
     ]
    }
   ],
   "source": [
    "##############################################################################\n",
    "### Lasso for NAR, NIR CHL+ case\n",
    "\n",
    "ALPHA = 0.0025  # Regularization strength\n",
    "\n",
    "clf_nar = []\n",
    "clf_nir = []\n",
    "for i in range(11):\n",
    "    clf = linear_model.Lasso(alpha=ALPHA)\n",
    "    clf.fit(X_NAR_CHL_NEG[:,i,:], Y_CHL_NEG[:,i,0])\n",
    "    clf_nar.append(clf)\n",
    "    clf = linear_model.Lasso(alpha=ALPHA)\n",
    "    clf.fit(X_NIR_CHL_NEG[:,i,:], Y_CHL_NEG[:,i,1])\n",
    "    clf_nir.append(clf)\n",
    "\n",
    "print(\"--------------------------------------------------\")\n",
    "print(\"NAR\")\n",
    "for i in range(11):\n",
    "    print(f\"Coefficients {clf_nar[i].coef_.shape}:\\n\", clf_nar[i].coef_)\n",
    "    print(f\"Intercepts: {clf_nar[i].intercept_.shape}\\n\", clf_nar[i].intercept_)\n",
    "print(\"--------------------------------------------------\")\n",
    "\n",
    "print(\"--------------------------------------------------\")\n",
    "print(\"NIR\")\n",
    "for i in range(11):\n",
    "    print(f\"Coefficients {clf_nir[i].coef_.shape}:\\n\", clf_nir[i].coef_)\n",
    "    print(f\"Intercepts: {clf_nir[i].intercept_.shape}\\n\", clf_nir[i].intercept_)\n",
    "print(\"--------------------------------------------------\")\n"
   ]
  },
  {
   "cell_type": "code",
   "execution_count": 56,
   "id": "fb1f4311",
   "metadata": {},
   "outputs": [
    {
     "data": {
      "application/vnd.jupyter.widget-view+json": {
       "model_id": "aaf8631105234b33a02e0e41ba5188cc",
       "version_major": 2,
       "version_minor": 0
      },
      "text/plain": [
       "native:   0%|          | 0/10 [00:00<?, ?it/s]"
      ]
     },
     "metadata": {},
     "output_type": "display_data"
    },
    {
     "data": {
      "application/vnd.jupyter.widget-view+json": {
       "model_id": "7e0ade4a108344db87493e32e2a33633",
       "version_major": 2,
       "version_minor": 0
      },
      "text/plain": [
       "perturbed:   0%|          | 0/11 [00:00<?, ?it/s]"
      ]
     },
     "metadata": {},
     "output_type": "display_data"
    },
    {
     "data": {
      "application/vnd.jupyter.widget-view+json": {
       "model_id": "98c338ed9bde48088294da1814adb0bc",
       "version_major": 2,
       "version_minor": 0
      },
      "text/plain": [
       "perturbed:   0%|          | 0/11 [00:00<?, ?it/s]"
      ]
     },
     "metadata": {},
     "output_type": "display_data"
    },
    {
     "data": {
      "application/vnd.jupyter.widget-view+json": {
       "model_id": "cb3e2821c17f466fb902fc857f582cf4",
       "version_major": 2,
       "version_minor": 0
      },
      "text/plain": [
       "perturbed:   0%|          | 0/11 [00:00<?, ?it/s]"
      ]
     },
     "metadata": {},
     "output_type": "display_data"
    },
    {
     "data": {
      "application/vnd.jupyter.widget-view+json": {
       "model_id": "2a1c9af18f254aecb1231886eebaaf5e",
       "version_major": 2,
       "version_minor": 0
      },
      "text/plain": [
       "perturbed:   0%|          | 0/11 [00:00<?, ?it/s]"
      ]
     },
     "metadata": {},
     "output_type": "display_data"
    },
    {
     "data": {
      "application/vnd.jupyter.widget-view+json": {
       "model_id": "0aa432347b4d4415b7d7410a83e006b6",
       "version_major": 2,
       "version_minor": 0
      },
      "text/plain": [
       "perturbed:   0%|          | 0/11 [00:00<?, ?it/s]"
      ]
     },
     "metadata": {},
     "output_type": "display_data"
    },
    {
     "data": {
      "application/vnd.jupyter.widget-view+json": {
       "model_id": "e3a6d50d4f0f436e86f1d522ec337904",
       "version_major": 2,
       "version_minor": 0
      },
      "text/plain": [
       "perturbed:   0%|          | 0/11 [00:00<?, ?it/s]"
      ]
     },
     "metadata": {},
     "output_type": "display_data"
    },
    {
     "data": {
      "application/vnd.jupyter.widget-view+json": {
       "model_id": "64d6accf0aa14078b3229ccddb11710f",
       "version_major": 2,
       "version_minor": 0
      },
      "text/plain": [
       "perturbed:   0%|          | 0/11 [00:00<?, ?it/s]"
      ]
     },
     "metadata": {},
     "output_type": "display_data"
    },
    {
     "data": {
      "application/vnd.jupyter.widget-view+json": {
       "model_id": "668188d5c86c4ab0b2dad891454ca178",
       "version_major": 2,
       "version_minor": 0
      },
      "text/plain": [
       "perturbed:   0%|          | 0/11 [00:00<?, ?it/s]"
      ]
     },
     "metadata": {},
     "output_type": "display_data"
    },
    {
     "data": {
      "application/vnd.jupyter.widget-view+json": {
       "model_id": "a615fed9e97547b0b2c46eea69ad9de7",
       "version_major": 2,
       "version_minor": 0
      },
      "text/plain": [
       "perturbed:   0%|          | 0/11 [00:00<?, ?it/s]"
      ]
     },
     "metadata": {},
     "output_type": "display_data"
    },
    {
     "data": {
      "application/vnd.jupyter.widget-view+json": {
       "model_id": "320085a4c8604cdaa2005e2dd1619266",
       "version_major": 2,
       "version_minor": 0
      },
      "text/plain": [
       "perturbed:   0%|          | 0/11 [00:00<?, ?it/s]"
      ]
     },
     "metadata": {},
     "output_type": "display_data"
    }
   ],
   "source": [
    "rA_grid = np.zeros((10,11))\n",
    "rI_grid = np.zeros((10,11))\n",
    "X_NIR_T0 = nir_rel_exp_chl_neg_t0\n",
    "X_NAR_T0 = nar_rel_exp_chl_neg_t0\n",
    "X_NIR_T9 = nir_rel_exp_chl_neg_t9\n",
    "X_NAR_T9 = nar_rel_exp_chl_neg_t9\n",
    "for native in tqdm.trange(10, desc=\"native\", leave=False):\n",
    "        for pert in tqdm.trange(11, desc=\"perturbed\", leave=False):\n",
    "            rA_pred = 0\n",
    "            rI_pred = 0\n",
    "            for i in range(len(group_idxs)):\n",
    "                rA_pred += X_NAR_T0[native, pert, i]*clf_nar[pert].coef_[i]\n",
    "                rI_pred += X_NIR_T0[native, pert, i]*clf_nir[pert].coef_[i]  \n",
    "                rA_pred += X_NAR_T9[native, pert, i]*clf_nar[pert].coef_[i + len(group_idxs)]\n",
    "                rI_pred += X_NIR_T9[native, pert, i]*clf_nir[pert].coef_[i + len(group_idxs)] \n",
    "            rA_pred += clf_nar[pert].intercept_\n",
    "            rI_pred += clf_nir[pert].intercept_\n",
    "            y_pred = [rA_pred, rI_pred]\n",
    "            rA_grid[native, pert] = rA_pred\n",
    "            rI_grid[native, pert] = rI_pred\n"
   ]
  },
  {
   "cell_type": "code",
   "execution_count": 58,
   "id": "a8bba3c7",
   "metadata": {},
   "outputs": [
    {
     "data": {
      "image/png": "[encoded data removed]",
      "text/plain": [
       "<Figure size 640x480 with 1 Axes>"
      ]
     },
     "metadata": {},
     "output_type": "display_data"
    },
    {
     "data": {
      "image/png": "[encoded data removed]",
      "text/plain": [
       "<Figure size 640x480 with 1 Axes>"
      ]
     },
     "metadata": {},
     "output_type": "display_data"
    }
   ],
   "source": [
    "\n",
    "x_nar = np.zeros(110)\n",
    "y_nar = np.zeros(110)\n",
    "x_nir = np.zeros(110)\n",
    "y_nir = np.zeros(110)\n",
    "x = np.linspace(0,20,10)\n",
    "y = np.linspace(0,20,10)\n",
    "for native in range(10):\n",
    "    for pert in range(11):\n",
    "        x_nar[10*native + pert] = Y_CHL_NEG[native,pert, 0]\n",
    "        x_nir[10*native + pert] = Y_CHL_NEG[native,pert, 1]\n",
    "        y_nar[10*native + pert] = rA_grid[native, pert]\n",
    "        y_nir[10*native + pert] = rI_grid[native, pert]\n",
    "        \n",
    "plt.scatter(x_nar, y_nar, color = 'Black')\n",
    "plt.plot(x,y, color = 'Black', alpha = 0.5)\n",
    "plt.xlabel('rA Observed')\n",
    "plt.ylabel('rA Predicted')\n",
    "plt.title('CHL- LASSO prediction rA')\n",
    "plt.xlim(0,5)\n",
    "plt.ylim(0,5)\n",
    "plt.show()\n",
    "plt.scatter(x_nir, y_nir, color = 'Black')\n",
    "plt.plot(x,y, color = 'Black', alpha = 0.5)\n",
    "plt.xlabel('rI Observed')\n",
    "plt.ylabel('rI Predicted')\n",
    "plt.title('CHL- LASSO prediction rI')\n",
    "plt.xlim(0,20)\n",
    "plt.ylim(0,20)\n",
    "plt.show()\n"
   ]
  },
  {
   "cell_type": "markdown",
   "id": "01c9d7a4",
   "metadata": {},
   "source": [
    "### Try to use a nonlinear (2nd order) model to find coefficients in the CHL- case"
   ]
  },
  {
   "cell_type": "code",
   "execution_count": 50,
   "id": "a86ad969",
   "metadata": {},
   "outputs": [
    {
     "name": "stdout",
     "output_type": "stream",
     "text": [
      "--------------------------------------------------\n",
      "NAR\n",
      "Coefficients (119,):\n",
      " [ 0.83452472  0.         -0.         -0.          0.          0.\n",
      " -0.          0.         -0.         -0.         -0.          0.\n",
      "  0.         -0.          0.          0.         -0.          0.\n",
      "  0.          0.          0.          0.          0.         -0.\n",
      "  0.          0.          0.         -0.          0.          0.\n",
      "  0.          0.          0.          0.          0.          0.\n",
      "  0.          0.          0.          0.          0.         -0.\n",
      " -0.          0.          0.         -0.         -0.         -0.\n",
      " -0.         -0.         -0.         -0.         -0.         -0.\n",
      "  0.          0.         -0.         -0.          0.         -0.\n",
      " -0.          0.         -0.          0.          0.          0.\n",
      "  0.          0.          0.          0.          0.          0.\n",
      "  0.          0.          0.          0.          0.          0.\n",
      "  0.          0.          0.          0.          0.         -0.\n",
      " -0.         -0.         -0.         -0.          0.         -0.\n",
      " -0.          0.         -0.         -0.         -0.          0.\n",
      " -0.          0.          0.          0.         -0.          0.\n",
      " -0.          0.         -0.         -0.         -0.         -0.\n",
      " -0.         -0.         -0.         -0.         -0.          0.\n",
      "  0.          0.          0.          0.         -0.        ]\n",
      "Intercepts: ()\n",
      " 0.16226312544235927\n",
      "Coefficients (119,):\n",
      " [ 0.49217893  0.         -0.         -0.          0.          0.\n",
      " -0.          0.         -0.         -0.         -0.          0.\n",
      " -0.          0.          0.          0.         -0.          0.\n",
      "  0.          0.          0.          0.         -0.         -0.\n",
      "  0.          0.          0.          0.          0.          0.\n",
      "  0.          0.          0.          0.          0.          0.\n",
      "  0.          0.          0.          0.          0.         -0.\n",
      " -0.          0.          0.         -0.         -0.         -0.\n",
      " -0.         -0.         -0.         -0.         -0.         -0.\n",
      "  0.          0.         -0.          0.         -0.         -0.\n",
      " -0.         -0.         -0.         -0.          0.          0.\n",
      "  0.          0.          0.          0.          0.          0.\n",
      "  0.          0.          0.          0.          0.          0.\n",
      "  0.          0.          0.          0.          0.         -0.\n",
      " -0.         -0.         -0.         -0.          0.         -0.\n",
      " -0.          0.         -0.         -0.         -0.          0.\n",
      " -0.          0.         -0.         -0.         -0.         -0.\n",
      " -0.         -0.         -0.         -0.         -0.         -0.\n",
      " -0.         -0.         -0.         -0.         -0.          0.\n",
      " -0.          0.         -0.         -0.          0.        ]\n",
      "Intercepts: ()\n",
      " 0.21445015789437435\n",
      "Coefficients (119,):\n",
      " [ 0.64377375  0.         -0.         -0.          0.          0.\n",
      " -0.          0.         -0.         -0.          0.         -0.\n",
      " -0.         -0.          0.          0.         -0.          0.\n",
      "  0.          0.          0.          0.         -0.         -0.\n",
      "  0.         -0.         -0.          0.          0.          0.\n",
      "  0.          0.          0.          0.          0.          0.\n",
      "  0.          0.          0.          0.          0.         -0.\n",
      " -0.          0.          0.         -0.         -0.         -0.\n",
      " -0.         -0.         -0.         -0.         -0.         -0.\n",
      "  0.          0.         -0.          0.         -0.         -0.\n",
      " -0.         -0.         -0.         -0.          0.          0.\n",
      "  0.          0.          0.          0.          0.          0.\n",
      "  0.          0.          0.          0.          0.          0.\n",
      "  0.          0.          0.          0.          0.         -0.\n",
      " -0.         -0.         -0.         -0.         -0.         -0.\n",
      " -0.          0.         -0.         -0.          0.          0.\n",
      "  0.          0.         -0.         -0.         -0.         -0.\n",
      " -0.         -0.         -0.         -0.         -0.         -0.\n",
      " -0.          0.          0.         -0.         -0.         -0.\n",
      " -0.         -0.         -0.         -0.         -0.        ]\n",
      "Intercepts: ()\n",
      " 0.17668594855659753\n",
      "Coefficients (119,):\n",
      " [ 0.40814715  0.         -0.         -0.          0.          0.\n",
      " -0.          0.         -0.         -0.          0.         -0.\n",
      " -0.         -0.          0.          0.          0.          0.\n",
      "  0.          0.          0.          0.         -0.          0.\n",
      "  0.         -0.         -0.         -0.          0.          0.\n",
      "  0.          0.          0.          0.          0.          0.\n",
      "  0.          0.          0.          0.          0.         -0.\n",
      " -0.          0.          0.         -0.         -0.         -0.\n",
      " -0.         -0.         -0.         -0.         -0.         -0.\n",
      "  0.          0.         -0.          0.         -0.         -0.\n",
      "  0.         -0.         -0.         -0.          0.          0.\n",
      "  0.          0.          0.          0.          0.          0.\n",
      "  0.          0.          0.          0.          0.          0.\n",
      "  0.          0.          0.          0.          0.         -0.\n",
      " -0.         -0.         -0.         -0.         -0.         -0.\n",
      " -0.          0.         -0.          0.          0.          0.\n",
      " -0.         -0.         -0.         -0.         -0.         -0.\n",
      " -0.         -0.         -0.         -0.         -0.         -0.\n",
      " -0.          0.          0.         -0.         -0.         -0.\n",
      " -0.         -0.         -0.         -0.         -0.        ]\n",
      "Intercepts: ()\n",
      " 0.27982835561702124\n",
      "Coefficients (119,):\n",
      " [ 0.18667607  0.         -0.          0.          0.          0.\n",
      " -0.          0.         -0.         -0.          0.          0.\n",
      " -0.         -0.          0.          0.          0.          0.\n",
      "  0.          0.          0.          0.17145302 -0.          0.\n",
      "  0.          0.          0.         -0.          0.          0.\n",
      "  0.          0.          0.          0.          0.          0.\n",
      "  0.          0.          0.          0.          0.         -0.\n",
      "  0.          0.          0.         -0.         -0.         -0.\n",
      " -0.         -0.         -0.         -0.         -0.          0.\n",
      "  0.          0.          0.          0.         -0.          0.\n",
      "  0.         -0.          0.         -0.          0.          0.\n",
      "  0.          0.          0.          0.          0.          0.\n",
      "  0.          0.          0.          0.          0.          0.\n",
      "  0.          0.          0.          0.          0.         -0.\n",
      " -0.         -0.         -0.         -0.         -0.         -0.\n",
      " -0.          0.         -0.          0.          0.          0.\n",
      "  0.         -0.         -0.         -0.         -0.         -0.\n",
      " -0.         -0.         -0.         -0.         -0.         -0.\n",
      " -0.          0.          0.         -0.         -0.          0.\n",
      " -0.         -0.          0.         -0.         -0.        ]\n",
      "Intercepts: ()\n",
      " 0.3728840360009482\n",
      "Coefficients (119,):\n",
      " [ 0.02084509  0.         -0.          0.          0.          0.\n",
      " -0.          0.         -0.         -0.         -0.          0.\n",
      " -0.         -0.          0.          0.          0.          0.\n",
      "  0.          0.          0.          0.21255701 -0.          0.\n",
      "  0.          0.          0.          0.          0.          0.\n",
      "  0.          0.          0.          0.          0.          0.\n",
      "  0.          0.          0.          0.          0.         -0.\n",
      "  0.          0.          0.         -0.         -0.          0.\n",
      " -0.         -0.         -0.         -0.         -0.          0.\n",
      "  0.          0.         -0.          0.         -0.          0.\n",
      "  0.          0.         -0.         -0.          0.          0.\n",
      "  0.          0.          0.          0.          0.          0.\n",
      "  0.          0.          0.          0.          0.          0.\n",
      "  0.          0.          0.          0.          0.         -0.\n",
      " -0.         -0.         -0.         -0.          0.         -0.\n",
      " -0.          0.         -0.          0.          0.          0.\n",
      "  0.         -0.         -0.          0.         -0.         -0.\n",
      " -0.          0.         -0.         -0.         -0.         -0.\n",
      " -0.         -0.         -0.         -0.         -0.          0.\n",
      " -0.          0.         -0.         -0.         -0.        ]\n",
      "Intercepts: ()\n",
      " 0.4233712710649993\n",
      "Coefficients (119,):\n",
      " [ 0.          0.         -0.          0.          0.          0.\n",
      " -0.          0.         -0.          0.         -0.          0.\n",
      " -0.         -0.          0.          0.          0.          0.\n",
      "  0.          0.          0.          0.17343139 -0.          0.\n",
      " -0.          0.         -0.         -0.          0.          0.\n",
      "  0.          0.          0.          0.          0.          0.\n",
      "  0.          0.          0.          0.          0.         -0.\n",
      "  0.          0.          0.         -0.         -0.          0.\n",
      " -0.         -0.          0.         -0.         -0.          0.\n",
      "  0.          0.         -0.          0.         -0.          0.\n",
      "  0.          0.          0.         -0.          0.          0.\n",
      "  0.          0.          0.          0.          0.          0.\n",
      "  0.          0.          0.          0.          0.          0.\n",
      "  0.          0.          0.          0.          0.         -0.\n",
      " -0.         -0.         -0.         -0.          0.         -0.\n",
      " -0.          0.         -0.          0.          0.          0.\n",
      "  0.         -0.         -0.          0.         -0.         -0.\n",
      " -0.         -0.          0.          0.          0.         -0.\n",
      " -0.         -0.         -0.         -0.         -0.          0.\n",
      " -0.          0.         -0.         -0.         -0.        ]\n",
      "Intercepts: ()\n",
      " 0.4618204167094411\n",
      "Coefficients (119,):\n",
      " [ 0.        0.       -0.       -0.        0.        0.       -0.\n",
      "  0.       -0.       -0.       -0.        0.       -0.       -0.\n",
      "  0.        0.       -0.        0.        0.        0.        0.\n",
      "  0.007834 -0.        0.       -0.        0.       -0.       -0.\n",
      "  0.        0.        0.        0.        0.        0.        0.\n",
      "  0.        0.        0.        0.        0.        0.       -0.\n",
      " -0.        0.        0.       -0.       -0.       -0.       -0.\n",
      " -0.       -0.       -0.       -0.       -0.        0.        0.\n",
      " -0.        0.       -0.        0.       -0.        0.       -0.\n",
      " -0.        0.        0.        0.        0.        0.        0.\n",
      "  0.        0.        0.        0.        0.        0.        0.\n",
      "  0.        0.        0.        0.        0.        0.       -0.\n",
      " -0.       -0.       -0.       -0.        0.       -0.       -0.\n",
      "  0.       -0.        0.       -0.        0.        0.       -0.\n",
      " -0.       -0.       -0.       -0.       -0.       -0.        0.\n",
      " -0.       -0.       -0.       -0.       -0.       -0.       -0.\n",
      " -0.        0.       -0.        0.       -0.       -0.       -0.      ]\n",
      "Intercepts: ()\n",
      " 0.5113522609629775\n",
      "Coefficients (119,):\n",
      " [ 0.0443057  0.        -0.        -0.         0.         0.\n",
      " -0.         0.        -0.        -0.        -0.         0.\n",
      " -0.        -0.         0.         0.        -0.         0.\n",
      "  0.         0.         0.         0.        -0.         0.\n",
      " -0.         0.        -0.         0.         0.         0.\n",
      "  0.         0.         0.         0.         0.         0.\n",
      "  0.         0.         0.         0.         0.        -0.\n",
      " -0.         0.         0.        -0.        -0.        -0.\n",
      " -0.        -0.         0.        -0.        -0.        -0.\n",
      "  0.         0.        -0.         0.        -0.        -0.\n",
      " -0.         0.        -0.        -0.         0.         0.\n",
      "  0.         0.         0.         0.         0.         0.\n",
      "  0.         0.         0.         0.         0.         0.\n",
      "  0.         0.         0.         0.         0.        -0.\n",
      " -0.        -0.        -0.        -0.         0.        -0.\n",
      " -0.         0.        -0.         0.        -0.         0.\n",
      " -0.        -0.        -0.        -0.        -0.        -0.\n",
      " -0.        -0.        -0.        -0.         0.        -0.\n",
      " -0.        -0.        -0.        -0.        -0.         0.\n",
      " -0.         0.        -0.        -0.        -0.       ]\n",
      "Intercepts: ()\n",
      " 0.5106936066704977\n",
      "Coefficients (119,):\n",
      " [ 0.  0. -0.  0.  0.  0. -0.  0.  0. -0. -0.  0. -0. -0.  0.  0. -0.  0.\n",
      "  0.  0.  0.  0.  0. -0. -0.  0. -0.  0.  0.  0.  0.  0.  0.  0.  0.  0.\n",
      "  0.  0.  0.  0.  0. -0. -0.  0.  0. -0. -0.  0. -0. -0. -0. -0. -0.  0.\n",
      "  0.  0. -0. -0.  0.  0.  0.  0. -0. -0.  0.  0.  0.  0.  0.  0.  0.  0.\n",
      "  0.  0.  0.  0.  0.  0.  0.  0.  0.  0.  0. -0. -0.  0. -0. -0.  0. -0.\n",
      " -0.  0. -0. -0. -0.  0. -0. -0.  0.  0.  0.  0.  0.  0. -0. -0. -0. -0.\n",
      " -0.  0.  0. -0. -0.  0. -0.  0. -0. -0. -0.]\n",
      "Intercepts: ()\n",
      " 0.5302119\n",
      "Coefficients (119,):\n",
      " [ 0.  0. -0. -0.  0.  0.  0. -0. -0. -0.  0.  0.  0.  0.  0.  0. -0. -0.\n",
      "  0.  0. -0. -0. -0. -0.  0.  0.  0.  0.  0.  0.  0.  0.  0.  0.  0.  0.\n",
      "  0.  0.  0.  0.  0. -0. -0.  0.  0. -0. -0. -0. -0. -0. -0. -0. -0. -0.\n",
      "  0.  0. -0. -0. -0. -0. -0. -0. -0. -0.  0.  0.  0.  0.  0.  0.  0.  0.\n",
      "  0.  0.  0.  0.  0.  0.  0.  0.  0.  0.  0.  0. -0. -0. -0.  0. -0. -0.\n",
      "  0. -0. -0. -0.  0. -0. -0.  0. -0. -0. -0. -0. -0. -0. -0. -0. -0. -0.\n",
      " -0.  0.  0.  0.  0.  0.  0.  0.  0. -0.  0.]\n",
      "Intercepts: ()\n",
      " 0.4521807\n",
      "--------------------------------------------------\n",
      "--------------------------------------------------\n",
      "NIR\n",
      "Coefficients (119,):\n",
      " [  0.          18.71041224 -14.47365512  -0.         -68.83473634\n",
      "   0.           0.         -32.72615756   0.         -69.00660008\n",
      "   0.          34.96559428  -4.83620412  18.81259741   0.\n",
      "   0.          -0.          -0.           0.           0.\n",
      "   0.          -0.           0.          -0.           0.\n",
      "   0.           0.           0.           0.          -0.\n",
      "  -0.          -0.           0.           0.           0.\n",
      "   0.          -0.          -0.           0.          -0.\n",
      "   0.          -0.          -0.          -0.          -0.\n",
      "   0.          -0.          -0.          -0.          -0.\n",
      "  -0.          -0.          -0.          -0.          -0.\n",
      "  -0.          -0.          -0.          -0.          -0.\n",
      "   0.           0.          -0.          -0.          -0.\n",
      "  -0.          -0.          -0.          -0.          -0.\n",
      "  -0.           0.          -0.           0.           0.\n",
      "   0.           0.           0.          -0.           0.\n",
      "   0.          -0.           0.          -0.          -0.\n",
      "   0.          -0.           0.           0.          -0.\n",
      "   0.          -0.          -0.          -0.           0.\n",
      "  -0.          -0.          -0.           0.          -0.\n",
      "   0.           0.          -0.           0.          -0.\n",
      "  -0.          -0.          -0.          -0.           0.\n",
      "   0.          -0.          -0.           0.           0.\n",
      "   0.          -0.           0.           0.        ]\n",
      "Intercepts: ()\n",
      " 15.468038399180852\n",
      "Coefficients (119,):\n",
      " [  0.          60.08915556  -0.          -0.          -0.\n",
      "   0.           2.85926122  11.32674008  -0.13327819 -15.64629257\n",
      "  -0.           0.           0.           0.           0.\n",
      "   0.          -0.          -0.          -0.           0.\n",
      "   0.           0.           0.          -0.          -0.\n",
      "   0.          -0.           0.           0.          -0.\n",
      "  -0.          -0.           0.           0.           0.\n",
      "   0.          -0.          -0.           0.           0.\n",
      "   0.          -0.          -0.          -0.          -0.\n",
      "   0.          -0.          -0.          -0.          -0.\n",
      "   0.           0.          -0.          -0.          -0.\n",
      "  -0.          -0.          -0.          -0.          -0.\n",
      "  -0.           0.           0.          -0.          -0.\n",
      "  -0.           0.           0.          -0.          -0.\n",
      "  -0.           0.          -0.           0.           0.\n",
      "   0.           0.           0.          -0.          -0.\n",
      "   0.          -0.           0.           0.           0.\n",
      "   0.          -0.          -0.           0.           0.\n",
      "   0.           0.           0.          -0.          -0.\n",
      "   0.           0.           0.          -0.          -0.\n",
      "  -0.           0.         -62.60759094   0.          -0.\n",
      "  -0.          -0.          -0.          -0.          -0.\n",
      "  -0.          -0.           0.           0.           0.\n",
      "   0.           0.           0.           0.        ]\n",
      "Intercepts: ()\n",
      " -8.17967465390192\n",
      "Coefficients (119,):\n",
      " [ -0.           0.         -13.7199463   -7.96823047   0.\n",
      "   0.           4.11548156  -0.           0.          -0.\n",
      "  -0.          -0.          -0.           3.25002254  -0.\n",
      "   0.          -0.          -0.           0.           0.\n",
      "   0.          -0.           0.          -0.           0.\n",
      "   0.          -0.           0.           0.          -0.\n",
      "  -0.           0.           0.           0.           0.\n",
      "   0.          -0.          -0.          -0.          -0.\n",
      "   0.          -0.          -0.          -0.          -0.\n",
      "   0.          -0.          -0.          -0.          -0.\n",
      "  -0.          -0.          -0.          -0.          -0.\n",
      "  -0.           0.          -0.          -0.          -0.\n",
      "   0.          -0.          -0.          -0.           0.\n",
      "   0.           0.           0.           0.          -0.\n",
      "  -0.          -0.          -0.           0.           0.\n",
      "   0.           0.           0.          -0.          -0.\n",
      "  -0.          -0.           0.           0.           0.\n",
      "   0.          -0.           0.           0.           0.\n",
      "   0.          -0.           0.          -0.           0.\n",
      "   0.          -0.          -0.           0.          -0.\n",
      "  -0.           0.          -0.           0.          -0.\n",
      "   0.          -0.          -0.          -0.           0.\n",
      "  -0.          -0.           0.          -0.          -0.\n",
      "   0.          -0.           0.           0.        ]\n",
      "Intercepts: ()\n",
      " 6.81668205590659\n",
      "Coefficients (119,):\n",
      " [ 0.          0.         -0.         -0.          0.         -0.\n",
      "  0.66978707  0.          0.         -0.         -0.         -0.95551621\n",
      "  0.          4.19121018  0.          0.         -0.         -0.\n",
      "  0.          0.          0.          0.          0.         -0.\n",
      "  0.         -0.         -0.          0.          0.         -0.\n",
      " -0.          0.          0.          0.          0.          0.\n",
      " -0.         -0.         -0.          0.          0.         -0.\n",
      " -0.         -0.         -0.         -0.         -0.         -0.\n",
      " -0.         -0.         -0.          0.         -0.         -0.\n",
      " -0.         -0.          0.         -0.         -0.         -0.\n",
      "  0.         -0.          0.         -0.         -0.         -0.\n",
      "  0.          0.          0.         -0.         -0.         -0.\n",
      "  0.          0.         -0.          0.          0.          0.\n",
      " -0.         -0.         -0.          0.          0.          0.\n",
      "  0.          0.         -0.         -0.          0.          0.\n",
      "  0.          0.          0.         -0.          0.          0.\n",
      "  0.          0.         12.97683484 -0.         -0.         -0.\n",
      "  0.         -0.         -0.         -0.         -0.         -0.\n",
      " -0.         -0.         -0.         -0.          0.         -0.\n",
      " -0.          0.          0.          0.          0.        ]\n",
      "Intercepts: ()\n",
      " 2.543715681163086\n",
      "Coefficients (119,):\n",
      " [-0.          0.          0.          0.         -0.         -0.\n",
      " -0.          3.65758269  0.          0.         12.60870871 -7.36204938\n",
      " -1.63347633 -0.         -0.         -0.         -0.         -0.\n",
      " -0.         -0.          0.          0.          0.         -0.\n",
      "  0.         -0.         -0.         -0.          0.          0.\n",
      "  0.         -0.         -0.         -0.          0.          0.\n",
      "  0.          0.         -0.          0.         -0.         -0.\n",
      "  0.          0.         -0.          0.         -0.         -0.\n",
      " -0.          0.         -0.          0.         -0.          0.\n",
      "  0.         -0.         -0.          0.          0.          0.\n",
      "  0.         -0.         -0.         -0.         -0.         -0.\n",
      " -0.          0.         -0.          0.          0.         -0.\n",
      " -0.         -0.         -0.         -0.          0.         -0.\n",
      " -0.         -0.         -0.         -0.         -0.          0.\n",
      "  0.         -0.         -0.         -0.         -0.         -0.\n",
      " -0.          0.          0.          0.          0.          0.\n",
      " -0.          0.          0.          0.          0.         -0.\n",
      " -1.84930268 -0.          0.          0.         -0.         -0.\n",
      " -0.          0.         -0.         -0.          0.         -0.\n",
      " -0.         -0.          0.         -0.         -0.        ]\n",
      "Intercepts: ()\n",
      " 5.303403390825512\n",
      "Coefficients (119,):\n",
      " [-0.          0.         -0.         -0.21181235  0.          0.\n",
      "  0.          5.15696138  0.         -0.          0.         -0.\n",
      " -0.         -0.         -0.         -0.         -0.         -0.\n",
      "  0.         -0.          0.          0.          0.         -0.\n",
      "  0.          0.         -0.         -0.          0.         -0.\n",
      " -0.          0.          0.          0.          0.          0.\n",
      " -0.         -0.         -0.          0.         -0.         -0.\n",
      " -0.          0.         -0.          0.         -0.         -0.\n",
      " -0.          0.         -0.         -0.         -0.         -0.\n",
      " -0.         -0.         -0.         -0.         -0.         -0.\n",
      "  0.         -0.         -0.         -0.          0.          0.\n",
      "  0.          0.          0.         -0.         -0.         -0.\n",
      "  0.         -0.          0.          0.          0.          0.\n",
      " -0.         -0.         -0.          0.         -0.          0.\n",
      "  0.          0.         -0.          0.          0.          0.\n",
      " -0.          0.          0.         -0.          0.          0.\n",
      "  0.         -0.          3.52322532 -0.         -0.         -0.\n",
      " -0.         -0.         -0.          0.         -0.         -0.\n",
      " -0.          0.         -0.         -0.          0.          0.\n",
      " -0.         -0.          2.95980513 -0.         -0.        ]\n",
      "Intercepts: ()\n",
      " 2.8890240708568946\n",
      "Coefficients (119,):\n",
      " [ 0.         -0.         -0.         -0.          0.         -0.\n",
      "  3.61629796  0.          0.         -0.         -6.01198896 -0.\n",
      "  0.          2.43905703  0.          0.         -0.         -0.\n",
      "  0.         -0.          0.          0.          0.         -0.\n",
      " -0.          0.         -0.          0.         -0.         -0.\n",
      " -0.          0.         -0.          0.          0.         -0.\n",
      " -0.         -0.         -0.          0.          0.          0.\n",
      " -0.         -0.         -0.         -0.         -0.         -0.\n",
      " -0.         -0.         -0.          0.          0.         -0.\n",
      " -0.         -0.         -0.         -0.         -0.         -0.\n",
      " -0.         -0.          0.         -0.          0.         -0.\n",
      "  0.          0.          0.         -0.         -0.         -0.\n",
      " -0.          0.         -0.         -0.          0.         -0.\n",
      " -0.         -0.         -0.         -0.          0.          0.\n",
      "  0.          0.          0.         -0.          0.          0.\n",
      "  0.          0.          0.         -0.          0.          0.\n",
      "  0.          0.          0.         -0.         -0.         -0.\n",
      " -0.          0.         -0.         -0.         -0.         -0.\n",
      " -0.         -0.         -0.         -0.         -0.         -0.\n",
      " -0.          0.          1.85183499  0.          0.        ]\n",
      "Intercepts: ()\n",
      " 2.872897574065931\n",
      "Coefficients (119,):\n",
      " [-0.          0.         -0.         -5.87719987  0.          0.\n",
      "  0.          0.          1.55563702 -0.         -0.         -0.\n",
      "  3.37908055 -2.55811716  0.          0.         -0.         -0.\n",
      "  0.         -0.          0.          0.          0.         -0.\n",
      " -0.          0.          0.         -0.          0.         -0.\n",
      " -0.          0.          0.          0.          0.          0.\n",
      " -0.         -0.         -0.          0.         -0.         -0.\n",
      " -0.          0.          0.          0.         -0.         -0.\n",
      " -0.          0.         -0.         -0.         -0.         -0.\n",
      " -0.         -0.         -0.         -0.         -0.         -0.\n",
      " -0.         -0.         -0.         -0.          0.          0.\n",
      "  0.          0.          0.          0.         -0.         -0.\n",
      "  0.         -0.         -0.         -0.          0.          0.\n",
      " -0.         -0.         -0.          0.         -0.          0.\n",
      "  0.          0.         -0.         -0.         -0.          0.\n",
      " -0.         -0.          0.         -0.          0.          0.\n",
      "  0.         -0.          0.         -0.         -0.         -0.\n",
      "  0.         -0.         -0.          0.         -0.         -0.\n",
      " -0.         -0.         -0.          0.         -0.         -0.\n",
      " -0.         -0.          0.         -0.         -0.        ]\n",
      "Intercepts: ()\n",
      " 2.0224547082644357\n",
      "Coefficients (119,):\n",
      " [-0.          0.          0.         -0.          0.         -0.\n",
      " -0.         -0.         -0.          0.          0.          0.\n",
      " -0.         -0.         -0.         -0.         -0.         -0.\n",
      "  0.         -0.          0.         -0.         -0.          0.\n",
      "  0.          0.         -0.         -0.          0.          0.\n",
      "  0.          0.         -0.         -0.         -0.         -0.\n",
      "  0.          0.          0.          0.         -0.         -0.\n",
      " -0.          0.          0.          0.          0.          0.\n",
      "  0.          0.          0.         -0.         -0.         -0.\n",
      "  0.         -0.         -0.          0.          0.          0.\n",
      "  0.          0.         -0.         -0.          0.          0.\n",
      " -0.          0.          0.          0.          0.          0.\n",
      "  0.         -0.         -0.         -0.         -0.         -0.\n",
      "  0.          0.          0.         -0.         -0.         -0.\n",
      " -0.         -0.          0.          0.         -0.         -0.\n",
      " -0.         -0.         -0.          0.          0.         -0.\n",
      " -0.         -0.         -0.          0.          0.          0.\n",
      "  0.         -0.          0.          0.          0.          0.\n",
      "  0.          0.          0.          0.          0.          0.\n",
      "  0.         -0.         -0.10735334 -0.         -0.        ]\n",
      "Intercepts: ()\n",
      " 1.3404959766250726\n",
      "Coefficients (119,):\n",
      " [-0.  0. -0. -0.  0.  0. -0. -0.  0. -0. -0. -0. -0. -0. -0. -0. -0. -0.\n",
      " -0. -0. -0. -0. -0. -0. -0. -0. -0. -0.  0.  0. -0.  0.  0.  0.  0.  0.\n",
      " -0. -0. -0.  0.  0. -0. -0.  0.  0.  0. -0.  0. -0. -0. -0. -0. -0. -0.\n",
      " -0. -0. -0. -0. -0. -0. -0. -0. -0. -0.  0.  0. -0.  0.  0. -0. -0. -0.\n",
      " -0.  0.  0. -0.  0.  0. -0. -0. -0.  0.  0. -0.  0.  0.  0. -0. -0. -0.\n",
      "  0. -0.  0. -0. -0.  0. -0. -0.  0. -0. -0. -0.  0.  0. -0. -0.  0. -0.\n",
      " -0. -0. -0. -0. -0. -0. -0. -0. -0. -0. -0.]\n",
      "Intercepts: ()\n",
      " 0.9207947999999998\n",
      "Coefficients (119,):\n",
      " [ 0.          0.         -0.         -0.         -0.          0.\n",
      "  0.3553192  -0.          0.         -0.         -0.         -0.\n",
      "  1.72304119 -0.          0.          0.         -0.         -0.\n",
      "  0.          0.          0.         -0.          0.         -0.\n",
      " -0.          0.          0.          0.          0.         -0.\n",
      " -0.         -0.          0.          0.         -0.          0.\n",
      " -0.         -0.         -0.          0.          0.         -0.\n",
      " -0.         -0.         -0.          0.         -0.         -0.\n",
      " -0.         -0.         -0.         -0.         -0.         -0.\n",
      " -0.         -0.          0.         -0.         -0.         -0.\n",
      " -0.         -0.         -0.         -0.         -0.          0.\n",
      "  0.         -0.         -0.         -0.         -0.         -0.\n",
      "  0.          0.          0.          0.          0.          0.\n",
      " -0.         -0.          0.          0.          0.          0.\n",
      "  0.          0.         -0.         -0.          0.          0.\n",
      "  0.         -0.         -0.         -0.         -0.         -0.\n",
      "  0.         -0.          0.         -0.         -0.          0.\n",
      "  0.          0.         -0.         -0.         -0.         -0.\n",
      " -0.         -0.         -0.         -0.         -0.         -0.\n",
      "  0.         -0.          0.          0.         -0.        ]\n",
      "Intercepts: ()\n",
      " 0.582054185932176\n",
      "--------------------------------------------------\n"
     ]
    },
    {
     "data": {
      "application/vnd.jupyter.widget-view+json": {
       "model_id": "c062236fb6e64372a0cdab0d0f5cb0ad",
       "version_major": 2,
       "version_minor": 0
      },
      "text/plain": [
       "native:   0%|          | 0/10 [00:00<?, ?it/s]"
      ]
     },
     "metadata": {},
     "output_type": "display_data"
    },
    {
     "data": {
      "application/vnd.jupyter.widget-view+json": {
       "model_id": "358bec73dae5467784377f8e52784004",
       "version_major": 2,
       "version_minor": 0
      },
      "text/plain": [
       "perturbed:   0%|          | 0/11 [00:00<?, ?it/s]"
      ]
     },
     "metadata": {},
     "output_type": "display_data"
    },
    {
     "data": {
      "application/vnd.jupyter.widget-view+json": {
       "model_id": "c880dcaf14414cb09788b812bca978d8",
       "version_major": 2,
       "version_minor": 0
      },
      "text/plain": [
       "perturbed:   0%|          | 0/11 [00:00<?, ?it/s]"
      ]
     },
     "metadata": {},
     "output_type": "display_data"
    },
    {
     "data": {
      "application/vnd.jupyter.widget-view+json": {
       "model_id": "436fb65f9e964c3e89687d2afcf83829",
       "version_major": 2,
       "version_minor": 0
      },
      "text/plain": [
       "perturbed:   0%|          | 0/11 [00:00<?, ?it/s]"
      ]
     },
     "metadata": {},
     "output_type": "display_data"
    },
    {
     "data": {
      "application/vnd.jupyter.widget-view+json": {
       "model_id": "d29c384f5e7848d7abf8a9f79c520a5f",
       "version_major": 2,
       "version_minor": 0
      },
      "text/plain": [
       "perturbed:   0%|          | 0/11 [00:00<?, ?it/s]"
      ]
     },
     "metadata": {},
     "output_type": "display_data"
    },
    {
     "data": {
      "application/vnd.jupyter.widget-view+json": {
       "model_id": "3438453df92e44a08db9cdf7f8f47a13",
       "version_major": 2,
       "version_minor": 0
      },
      "text/plain": [
       "perturbed:   0%|          | 0/11 [00:00<?, ?it/s]"
      ]
     },
     "metadata": {},
     "output_type": "display_data"
    },
    {
     "data": {
      "application/vnd.jupyter.widget-view+json": {
       "model_id": "92a424d586684791a9e9587e8a9f6ff0",
       "version_major": 2,
       "version_minor": 0
      },
      "text/plain": [
       "perturbed:   0%|          | 0/11 [00:00<?, ?it/s]"
      ]
     },
     "metadata": {},
     "output_type": "display_data"
    },
    {
     "data": {
      "application/vnd.jupyter.widget-view+json": {
       "model_id": "4707a73651464493b378b2c9fd38d30b",
       "version_major": 2,
       "version_minor": 0
      },
      "text/plain": [
       "perturbed:   0%|          | 0/11 [00:00<?, ?it/s]"
      ]
     },
     "metadata": {},
     "output_type": "display_data"
    },
    {
     "data": {
      "application/vnd.jupyter.widget-view+json": {
       "model_id": "07aa2a04a84e47edbb60a71bc0eae814",
       "version_major": 2,
       "version_minor": 0
      },
      "text/plain": [
       "perturbed:   0%|          | 0/11 [00:00<?, ?it/s]"
      ]
     },
     "metadata": {},
     "output_type": "display_data"
    },
    {
     "data": {
      "application/vnd.jupyter.widget-view+json": {
       "model_id": "1b36f549fe344bff8b79922be9adcccf",
       "version_major": 2,
       "version_minor": 0
      },
      "text/plain": [
       "perturbed:   0%|          | 0/11 [00:00<?, ?it/s]"
      ]
     },
     "metadata": {},
     "output_type": "display_data"
    },
    {
     "data": {
      "application/vnd.jupyter.widget-view+json": {
       "model_id": "a1a98d5aaa4646b0a1bf2e5ec4701fc3",
       "version_major": 2,
       "version_minor": 0
      },
      "text/plain": [
       "perturbed:   0%|          | 0/11 [00:00<?, ?it/s]"
      ]
     },
     "metadata": {},
     "output_type": "display_data"
    }
   ],
   "source": [
    "##############################################################################\n",
    "### 2nd Order Polynomial Lasso for NAR, NIR CHL+ case\n",
    "\n",
    "from sklearn.preprocessing import PolynomialFeatures\n",
    "from sklearn.pipeline import make_pipeline\n",
    "\n",
    "ALPHA = 0.025  # Regularization strength\n",
    "\n",
    "\n",
    "poly = PolynomialFeatures(degree=2, include_bias=False)\n",
    "\n",
    "clf_nar = []\n",
    "clf_nir = []\n",
    "for i in range(11):\n",
    "    # Create pipeline: polynomial features -> Lasso\n",
    "    pipeline = make_pipeline(poly, linear_model.Lasso(alpha=ALPHA))\n",
    "    \n",
    "    # Fit NAR model\n",
    "    pipeline.fit(X_NAR_CHL_NEG[:,i,:], Y_CHL_NEG[:,i,0])\n",
    "    clf_nar.append(pipeline)\n",
    "    \n",
    "    # Fit NIR model\n",
    "    pipeline = make_pipeline(poly, linear_model.Lasso(alpha=ALPHA))\n",
    "    pipeline.fit(X_NIR_CHL_NEG[:,i,:], Y_CHL_NEG[:,i,1])\n",
    "    clf_nir.append(pipeline)\n",
    "\n",
    "print(\"--------------------------------------------------\")\n",
    "print(\"NAR\")\n",
    "for i in range(11):\n",
    "    # Get the Lasso model from the pipeline\n",
    "    lasso_model = clf_nar[i].named_steps['lasso']\n",
    "    print(f\"Coefficients {lasso_model.coef_.shape}:\\n\", lasso_model.coef_)\n",
    "    print(f\"Intercepts: {lasso_model.intercept_.shape}\\n\", lasso_model.intercept_)\n",
    "print(\"--------------------------------------------------\")\n",
    "\n",
    "print(\"--------------------------------------------------\")\n",
    "print(\"NIR\")\n",
    "for i in range(11):\n",
    "    lasso_model = clf_nir[i].named_steps['lasso']\n",
    "    print(f\"Coefficients {lasso_model.coef_.shape}:\\n\", lasso_model.coef_)\n",
    "    print(f\"Intercepts: {lasso_model.intercept_.shape}\\n\", lasso_model.intercept_)\n",
    "print(\"--------------------------------------------------\")\n",
    "\n",
    "# For prediction, we need to transform the input data with polynomial features first\n",
    "rA_grid = np.zeros((10,11))\n",
    "rI_grid = np.zeros((10,11))\n",
    "X_NIR_T0 = nir_rel_exp_chl_neg_t0\n",
    "X_NAR_T0 = nar_rel_exp_chl_neg_t0\n",
    "X_NIR_T9 = nir_rel_exp_chl_neg_t9\n",
    "X_NAR_T9 = nar_rel_exp_chl_neg_t9\n",
    "\n",
    "for native in tqdm.trange(10, desc=\"native\", leave=False):\n",
    "    for pert in tqdm.trange(11, desc=\"perturbed\", leave=False):\n",
    "        # Prepare input data for prediction\n",
    "        # We need to create the same polynomial features as used in training\n",
    "        \n",
    "        # For NAR prediction\n",
    "        nar_input = np.concatenate([\n",
    "            X_NAR_T0[native, pert, :], \n",
    "            X_NAR_T9[native, pert, :]\n",
    "        ]).reshape(1, -1)\n",
    "        rA_pred = clf_nar[pert].predict(nar_input)[0]\n",
    "        \n",
    "        # For NIR prediction\n",
    "        nir_input = np.concatenate([\n",
    "            X_NIR_T0[native, pert, :], \n",
    "            X_NIR_T9[native, pert, :]\n",
    "        ]).reshape(1, -1)\n",
    "        rI_pred = clf_nir[pert].predict(nir_input)[0]\n",
    "        \n",
    "        rA_grid[native, pert] = rA_pred\n",
    "        rI_grid[native, pert] = rI_pred\n",
    "\n"
   ]
  },
  {
   "cell_type": "code",
   "execution_count": 53,
   "id": "afe2c4c6",
   "metadata": {},
   "outputs": [
    {
     "data": {
      "image/png": "[encoded data removed]",
      "text/plain": [
       "<Figure size 640x480 with 1 Axes>"
      ]
     },
     "metadata": {},
     "output_type": "display_data"
    },
    {
     "data": {
      "image/png": "[encoded data removed]",
      "text/plain": [
       "<Figure size 640x480 with 1 Axes>"
      ]
     },
     "metadata": {},
     "output_type": "display_data"
    }
   ],
   "source": [
    "\n",
    "x_nar = np.zeros(110)\n",
    "y_nar = np.zeros(110)\n",
    "x_nir = np.zeros(110)\n",
    "y_nir = np.zeros(110)\n",
    "x = np.linspace(0,20,10)\n",
    "y = np.linspace(0,20,10)\n",
    "for native in range(10):\n",
    "    for pert in range(11):\n",
    "        x_nar[10*native + pert] = Y_CHL_NEG[native,pert, 0]\n",
    "        x_nir[10*native + pert] = Y_CHL_NEG[native,pert, 1]\n",
    "        y_nar[10*native + pert] = rA_grid[native, pert]\n",
    "        y_nir[10*native + pert] = rI_grid[native, pert]\n",
    "        \n",
    "plt.scatter(x_nar, y_nar, color = 'Black')\n",
    "plt.plot(x,y, color = 'Black', alpha = 0.5)\n",
    "plt.xlabel('rA Observed')\n",
    "plt.ylabel('rA Predicted')\n",
    "plt.xlim(0,5)\n",
    "plt.ylim(0,5)\n",
    "plt.show()\n",
    "plt.scatter(x_nir, y_nir, color = 'Black')\n",
    "plt.plot(x,y, color = 'Black', alpha = 0.5)\n",
    "plt.xlabel('rI Observed')\n",
    "plt.ylabel('rI Predicted')\n",
    "plt.xlim(0,20)\n",
    "plt.ylim(0,20)\n",
    "plt.show()\n"
   ]
  }
 ],
 "metadata": {
  "kernelspec": {
   "display_name": "Python 3",
   "language": "python",
   "name": "python3"
  },
  "language_info": {
   "codemirror_mode": {
    "name": "ipython",
    "version": 3
   },
   "file_extension": ".py",
   "mimetype": "text/x-python",
   "name": "python",
   "nbconvert_exporter": "python",
   "pygments_lexer": "ipython3",
   "version": "3.12.11"
  }
 },
 "nbformat": 4,
 "nbformat_minor": 5
}
