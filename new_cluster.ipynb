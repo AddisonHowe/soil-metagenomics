{
 "cells": [
  {
   "cell_type": "markdown",
   "id": "8340fe96",
   "metadata": {},
   "source": [
    "Goal: Collect results from new round of MMSeq clustering\n",
    "Output: an array with two columns, original ORF and new 2nd round clustered ORF\n",
    "For each of the ~1300 original ORFs (in the case of nar), find its 1st round cluster in the subset folder.\n",
    "Then, find its second round cluster from MMSeq output. \n",
    "\n",
    "Then, use the output to find a new grouping of variants\n",
    "\n",
    "If you run MMSeq again, all of this can be repeated with the run build_new_map script"
   ]
  },
  {
   "cell_type": "code",
   "execution_count": 1,
   "id": "ea3c974e",
   "metadata": {},
   "outputs": [],
   "source": [
    "import numpy as np\n",
    "import pandas as pd\n",
    "from functions import find_orfs, get_filepath\n",
    "\n",
    "soils = ['Soil3', 'Soil5', 'Soil6', 'Soil9', 'Soil11', 'Soil12', 'Soil14', 'Soil15', 'Soil16', 'Soil17']\n",
    "\n"
   ]
  },
  {
   "cell_type": "markdown",
   "id": "816c3069",
   "metadata": {},
   "source": [
    "(0) Find all ORFs"
   ]
  },
  {
   "cell_type": "code",
   "execution_count": 2,
   "id": "edf9d446",
   "metadata": {},
   "outputs": [
    {
     "name": "stdout",
     "output_type": "stream",
     "text": [
      "['T0.scaffold_826610199_c1_1', 'T0.scaffold_170828508_c1_1', 'T0.scaffold_785029462_c1_5', 'T0.scaffold_500133190_c1_1', 'T0.scaffold_915148188_c1_1', 'T0.scaffold_133727621_c1_1', 'T0.scaffold_629956420_c1_1', 'T0.scaffold_915288777_c1_1', 'T0.scaffold_11476034_c1_1', 'T0.scaffold_61541039_c1_1', 'T0.scaffold_831992212_c1_1', 'Soil3.scaffold_38977414_c1_1', 'Soil3.scaffold_374008697_c1_11', 'Soil3.scaffold_484563224_c1_1', 'Soil3.scaffold_404563946_c1_1', 'Soil5.scaffold_42391532_c1_4', 'Soil5.scaffold_349892274_c1_26', 'Soil5.scaffold_151631252_c1_54', 'Soil5.scaffold_498157886_c1_1', 'Soil5.scaffold_243654554_c1_4', 'Soil6.scaffold_534384613_c1_1', 'Soil9.scaffold_403279197_c1_1', 'Soil9.scaffold_278269692_c1_1', 'Soil9.scaffold_399115430_c1_5', 'Soil9.scaffold_471201764_c1_2', 'Soil9.scaffold_422795741_c1_2', 'Soil9.scaffold_226354075_c1_6', 'Soil9.scaffold_754790964_c1_1', 'Soil9.scaffold_614425102_c1_1', 'Soil11.scaffold_222086193_c1_1', 'Soil11.scaffold_240683483_c1_1', 'Soil11.scaffold_37140770_c1_1', 'Soil12.scaffold_560476159_c1_7', 'Soil12.scaffold_64188041_c1_6', 'Soil12.scaffold_321529328_c1_1', 'Soil12.scaffold_166615160_c1_1', 'Soil12.scaffold_714331268_c1_8', 'Soil12.scaffold_446288179_c1_1', 'Soil12.scaffold_535088075_c1_1', 'Soil12.scaffold_78792061_c1_1', 'Soil12.scaffold_355147144_c1_1', 'Soil14.scaffold_378337247_c1_1', 'Soil14.scaffold_603633783_c1_1', 'Soil14.scaffold_111947747_c1_15', 'Soil14.scaffold_613608415_c1_4', 'Soil14.scaffold_937246437_c1_4', 'Soil14.scaffold_954806526_c1_1', 'Soil14.scaffold_216119129_c1_1', 'Soil14.scaffold_282024753_c1_1', 'Soil14.scaffold_349535931_c1_1', 'Soil14.scaffold_883029064_c1_1', 'Soil14.scaffold_692089922_c1_1', 'Soil15.scaffold_991210343_c1_3', 'Soil15.scaffold_566803291_c1_1', 'Soil15.scaffold_259544222_c1_5', 'Soil15.scaffold_1196703985_c1_1', 'Soil15.scaffold_185354851_c1_1', 'Soil15.scaffold_36256099_c1_1', 'Soil15.scaffold_1173823673_c1_3', 'Soil15.scaffold_575697228_c1_1', 'Soil15.scaffold_802628625_c1_1', 'Soil15.scaffold_967242395_c1_1', 'Soil15.scaffold_189968816_c1_1', 'Soil15.scaffold_1035979300_c1_3', 'Soil15.scaffold_669854648_c1_1', 'Soil15.scaffold_132126673_c1_1', 'Soil15.scaffold_671925600_c1_1', 'Soil15.scaffold_742779322_c1_1', 'Soil15.scaffold_1131791871_c1_2', 'Soil15.scaffold_506487188_c1_1', 'Soil15.scaffold_1007767217_c1_2', 'Soil15.scaffold_14310597_c1_1', 'Soil15.scaffold_1276434806_c1_1', 'Soil15.scaffold_506487189_c1_1', 'Soil15.scaffold_204136325_c1_1', 'Soil15.scaffold_653368631_c1_1', 'Soil15.scaffold_1184164212_c1_3', 'Soil15.scaffold_1263193581_c1_3', 'Soil15.scaffold_442521766_c1_1', 'Soil15.scaffold_1098754523_c1_1', 'Soil15.scaffold_1288126504_c1_1', 'Soil15.scaffold_899180386_c1_7', 'Soil15.scaffold_178312450_c1_1', 'Soil16.scaffold_1056555360_c1_1', 'Soil16.scaffold_48033301_c1_9', 'Soil16.scaffold_118532615_c1_1', 'Soil16.scaffold_540019710_c1_1', 'Soil16.scaffold_1297814125_c1_1', 'Soil16.scaffold_104932808_c1_1', 'Soil16.scaffold_1306636612_c1_1', 'Soil16.scaffold_1323173408_c1_1', 'Soil16.scaffold_837212389_c1_1', 'Soil16.scaffold_1083734700_c1_1', 'Soil16.scaffold_1186977863_c1_1', 'Soil16.scaffold_992268769_c1_1', 'Soil16.scaffold_833218104_c1_9', 'Soil16.scaffold_1024861507_c1_7', 'Soil16.scaffold_1132685456_c1_1', 'Soil16.scaffold_233279887_c1_1', 'Soil16.scaffold_1246131474_c1_4', 'Soil16.scaffold_609995806_c1_1', 'Soil17.scaffold_239790672_c1_1', 'Soil17.scaffold_729716297_c1_1', 'Soil17.scaffold_531516977_c1_1', 'Soil17.scaffold_409719073_c1_1', 'Soil17.scaffold_840450566_c1_1', 'Soil17.scaffold_1036234763_c1_1', 'Soil17.scaffold_112809194_c1_1', 'Soil17.scaffold_225784986_c1_1', 'Soil17.scaffold_3737704_c1_1', 'Soil17.scaffold_541859704_c1_3', 'Soil17.scaffold_293670699_c1_1', 'Soil17.scaffold_285543800_c1_1', 'Soil17.scaffold_475470907_c1_1', 'Soil17.scaffold_377187607_c1_1', 'Soil17.scaffold_1298667718_c1_1', 'Soil17.scaffold_1160208197_c1_1', 'Soil17.scaffold_704643222_c1_1', 'Soil17.scaffold_541859705_c1_1']\n",
      "119\n"
     ]
    }
   ],
   "source": [
    "ORFs = find_orfs(get_filepath('T0', 'annotation', 'K02567'), 'K02567')\n",
    "ORF_complete = list(ORFs)\n",
    "    \n",
    "\n",
    "for soil in soils:\n",
    "    ORFs = find_orfs(get_filepath(soil, 'annotation', 'K02567'), 'K02567')\n",
    "    ORF_list = list(ORFs)\n",
    "    ORF_complete = ORF_complete + ORF_list\n",
    "    \n",
    "print(ORF_complete)\n",
    "print(len(ORF_complete))"
   ]
  },
  {
   "cell_type": "markdown",
   "id": "3ff47c87",
   "metadata": {},
   "source": [
    "(1), Create the array mapping original ORF to new ORF. "
   ]
  },
  {
   "cell_type": "markdown",
   "id": "515c1d61",
   "metadata": {},
   "source": [
    "(1a) Create a mapping from original ORF to 1st cluster ORF"
   ]
  },
  {
   "cell_type": "code",
   "execution_count": 3,
   "id": "b11807aa",
   "metadata": {},
   "outputs": [
    {
     "ename": "NameError",
     "evalue": "name 'file_path_1' is not defined",
     "output_type": "error",
     "traceback": [
      "\u001b[0;31m---------------------------------------------------------------------------\u001b[0m",
      "\u001b[0;31mNameError\u001b[0m                                 Traceback (most recent call last)",
      "Cell \u001b[0;32mIn[3], line 6\u001b[0m\n\u001b[1;32m      3\u001b[0m     \u001b[38;5;28;01mreturn\u001b[39;00m df[df[\u001b[38;5;241m0\u001b[39m] \u001b[38;5;241m==\u001b[39m orf][\u001b[38;5;241m1\u001b[39m]\u001b[38;5;241m.\u001b[39miloc[\u001b[38;5;241m0\u001b[39m]\n\u001b[1;32m      5\u001b[0m example \u001b[38;5;241m=\u001b[39m \u001b[38;5;124m\"\u001b[39m\u001b[38;5;124mT0.scaffold_419240115_c1_16\u001b[39m\u001b[38;5;124m\"\u001b[39m\n\u001b[0;32m----> 6\u001b[0m second \u001b[38;5;241m=\u001b[39m find_1st_orf(example, \u001b[43mfile_path_1\u001b[49m)\n\u001b[1;32m      7\u001b[0m \u001b[38;5;28mprint\u001b[39m(\u001b[38;5;124mf\u001b[39m\u001b[38;5;124m\"\u001b[39m\u001b[38;5;124mthe second ID for \u001b[39m\u001b[38;5;132;01m{\u001b[39;00mexample\u001b[38;5;132;01m}\u001b[39;00m\u001b[38;5;124m is: \u001b[39m\u001b[38;5;132;01m{\u001b[39;00msecond\u001b[38;5;132;01m}\u001b[39;00m\u001b[38;5;124m\"\u001b[39m)\n",
      "\u001b[0;31mNameError\u001b[0m: name 'file_path_1' is not defined"
     ]
    }
   ],
   "source": [
    "\n",
    "def find_1st_orf(orf, file_path):\n",
    "    df = pd.read_csv(file_path, sep = '\\t', header = None)\n",
    "    return df[df[0] == orf][1].iloc[0]\n",
    "\n",
    "example = \"T0.scaffold_419240115_c1_16\"\n",
    "second = find_1st_orf(example, file_path_1)\n",
    "print(f\"the second ID for {example} is: {second}\")"
   ]
  },
  {
   "cell_type": "markdown",
   "id": "5b4293c0",
   "metadata": {},
   "source": [
    "create a list of 1st round cluster IDs"
   ]
  },
  {
   "cell_type": "code",
   "execution_count": null,
   "id": "26f0ffcf",
   "metadata": {},
   "outputs": [],
   "source": [
    "prefixes = ['T0', 'Soil3', 'Soil5', 'Soil6', 'Soil9', 'Soil11', 'Soil12', 'Soil14', 'Soil15', 'Soil16', 'Soil17']\n",
    "file_path_list = []\n",
    "for prefix in prefixes:\n",
    "    file_path_list.append(get_filepath(prefix, 'annotation_K00370'))"
   ]
  },
  {
   "cell_type": "code",
   "execution_count": null,
   "id": "9448f3a9",
   "metadata": {},
   "outputs": [],
   "source": [
    "orf_1_list = []\n",
    "for i, prefix in enumerate(prefixes):\n",
    "    ORF_list = find_orfs(file_path_list[i], 'K00370')\n",
    "    for orf in ORF_list:\n",
    "        orf_1 = find_1st_orf(orf, file_path_list[i])\n",
    "        if orf_1 not in orf_1_list:\n",
    "            orf_1_list.append(orf_1)\n",
    "        \n",
    "print(orf_1_list)\n",
    "print(len(orf_1_list))"
   ]
  },
  {
   "cell_type": "markdown",
   "id": "425523c9",
   "metadata": {},
   "source": [
    "(1b) Create a mapping from 1st cluster ORF to new 2nd cluster ORF"
   ]
  },
  {
   "cell_type": "code",
   "execution_count": null,
   "id": "ac5fc3da",
   "metadata": {},
   "outputs": [],
   "source": [
    "from concurrent.futures import ThreadPoolExecutor\n",
    "\n",
    "def find_2nd_orf_chunk(id, chunk):\n",
    "    \"\"\"Search a chunk for the ID.\"\"\"\n",
    "    match = chunk[chunk[1] == id]\n",
    "    return match[0].iloc[0] if not match.empty else None\n",
    "\n",
    "def find_2nd_orf_parallel(id, file_path, chunksize=10_000_000):\n",
    "    \"\"\"Parallel chunked search.\"\"\"\n",
    "    with ThreadPoolExecutor(max_workers=8) as executor:\n",
    "        for chunk in pd.read_csv(file_path, sep='\\t', header=None, \n",
    "                               usecols=[0, 1], dtype=str, chunksize=chunksize):\n",
    "            result = executor.submit(find_2nd_orf_chunk, id, chunk).result()\n",
    "            if result is not None:\n",
    "                return result\n",
    "    return None\n",
    "\n",
    "file_path = 'data/raw_data/all.coassembly_proteins_1st_ClusterDB_repseq_2ndClusterDB.tsv'\n",
    "# Usage:\n",
    "#answer: Soil15.scaffold_1276187927_c1_1\n",
    "test = 'Soil14.scaffold_984904475_c1_1'\n",
    "print(find_2nd_orf_parallel(test, file_path))"
   ]
  },
  {
   "cell_type": "markdown",
   "id": "46b38697",
   "metadata": {},
   "source": [
    "(2) Create a new ORF list, with the new 2nd cluster"
   ]
  },
  {
   "cell_type": "code",
   "execution_count": null,
   "id": "3ad0ef1b",
   "metadata": {},
   "outputs": [],
   "source": [
    "#Needs to be ran on quest\n",
    "\n",
    "import numpy as np\n",
    "import matplotlib.pyplot as plt\n",
    "import pandas as pd\n",
    "import sys\n",
    "from collections import defaultdict\n",
    "\n",
    "from functions import find_orfs, get_filepath\n",
    "\n",
    "\n",
    "\n",
    "\n",
    "prefixes = ['T0', 'Soil3', 'Soil5', 'Soil6', 'Soil9', 'Soil11', 'Soil12', 'Soil14', 'Soil15', 'Soil16', 'Soil17']\n",
    "file_path_list = []\n",
    "for prefix in prefixes:\n",
    "    file_path_list.append(get_filepath(prefix, 'annotation_K00370'))\n",
    "\n",
    "#Want to produce \"map\" with 1336 rows corresponding to K00370 ORFs\n",
    "\n",
    "map = []\n",
    "\n",
    "#The 2nd Column is the round 1 cluster ORFs\n",
    "\n",
    "#The 3rd Column is the round 2 clustered ORFs, with the new clustering \n",
    "\n",
    "#produce a list of round 1 ORFs\n",
    "def find_1st_orf(orf, file_path):\n",
    "    df = pd.read_csv(file_path, sep = '\\t', header = None)\n",
    "    return df[df[0] == orf][1].iloc[0]\n",
    "\n",
    "orf_1_list = []\n",
    "for i in range(len(prefixes)):\n",
    "    ORF_list = find_orfs(file_path_list[i], 'K00370')\n",
    "    for orf in ORF_list:\n",
    "        orf_1 = find_1st_orf(orf, file_path_list[i])\n",
    "        map.append([orf, orf_1, 'blank'])\n",
    "        if orf_1 not in orf_1_list:\n",
    "            orf_1_list.append(orf_1)\n",
    "            \n",
    "print('orf_1_list: ', orf_1_list)\n",
    "print('len: ', len(orf_1_list))\n",
    "        \n",
    "print('Completed 1st Round')\n",
    "\n",
    "import pandas as pd\n",
    "\n",
    "def build_targeted_lookup(file_path, target_orfs):\n",
    "    \"\"\"Memory-efficient lookup builder\"\"\"\n",
    "    lookup_dict = {}\n",
    "    target_orfs = set(target_orfs)\n",
    "    \n",
    "    # Use low-memory chunking\n",
    "    for chunk in pd.read_csv(\n",
    "        file_path,\n",
    "        sep='\\t',\n",
    "        header=None,\n",
    "        usecols=[0, 1],\n",
    "        dtype=str,\n",
    "        chunksize=10_000_000\n",
    "    ):\n",
    "        # Vectorized filtering\n",
    "        mask = chunk[1].isin(target_orfs)\n",
    "        filtered = chunk[mask]\n",
    "        lookup_dict.update(zip(filtered[1], filtered[0]))\n",
    "    \n",
    "    return lookup_dict\n",
    "\n",
    "# Usage:\n",
    "file_path = 'data/raw_data/all.coassembly_proteins_1st_ClusterDB_repseq_2ndClusterDB.tsv'\n",
    "lookup_dict = build_targeted_lookup(file_path, orf_1_list)  # Do this ONCE\n",
    "\n",
    "def find_2nd_orf(id, lookup_dict):\n",
    "    \"\"\"O(1) lookup from preloaded dictionary.\"\"\"\n",
    "    return lookup_dict.get(id, None)\n",
    "\n",
    "for entry in map:\n",
    "    entry[2] = find_2nd_orf(entry[1])\n",
    "    print(entry[2])\n",
    "\n",
    "    \n",
    "\n",
    "np.savetxt(\"out/cluster08map_nar.tsv\", map, delimiter = '\\t', fmt = '%s')"
   ]
  },
  {
   "cell_type": "code",
   "execution_count": null,
   "id": "721f13c8",
   "metadata": {},
   "outputs": [],
   "source": [
    "##Needs to be ran on quest\n",
    "\n",
    "prefixes = ['T0', 'Soil3', 'Soil5', 'Soil6', 'Soil9', 'Soil11', 'Soil12', 'Soil14', 'Soil15', 'Soil16', 'Soil17']\n",
    "file_path_list = []\n",
    "for prefix in prefixes:\n",
    "    file_path_list.append(get_filepath(prefix, 'annotation_K00370'))\n",
    "\n",
    "#Want to produce \"map\" with 1336 rows corresponding to K00370 ORFs\n",
    "\n",
    "map = []\n",
    "\n",
    "#The 2nd Column is the round 1 cluster ORFs\n",
    "\n",
    "#The 3rd Column is the round 2 clustered ORFs, with the new clustering \n",
    "\n",
    "#produce a list of round 1 ORFs\n",
    "def find_1st_orf(orf, file_path):\n",
    "    df = pd.read_csv(file_path, sep = '\\t', header = None)\n",
    "    return df[df[0] == orf][1].iloc[0]\n",
    "\n",
    "orf_1_list = []\n",
    "for i in range(len(prefixes)):\n",
    "    ORF_list = find_orfs(file_path_list[i], 'K00370')\n",
    "    for orf in ORF_list:\n",
    "        orf_1 = find_1st_orf(orf, file_path_list[i])\n",
    "        map.append([orf, orf_1, 'blank'])\n",
    "        if orf_1 not in orf_1_list:\n",
    "            orf_1_list.append(orf_1)\n",
    "            \n",
    "print('orf_1_list: ', orf_1_list)\n",
    "print('len: ', len(orf_1_list))\n",
    "        \n",
    "print('Completed 1st Round')\n",
    "\n",
    "def build_targeted_lookup(file_path, target_orfs):\n",
    "    \"\"\"Memory-efficient lookup builder\"\"\"\n",
    "    lookup_dict = {}\n",
    "    target_orfs = set(target_orfs)\n",
    "    \n",
    "    # Use low-memory chunking\n",
    "    for chunk in pd.read_csv(\n",
    "        file_path,\n",
    "        sep='\\t',\n",
    "        header=None,\n",
    "        usecols=[0, 1],\n",
    "        dtype=str,\n",
    "        chunksize=10_000_000\n",
    "    ):\n",
    "        # Vectorized filtering\n",
    "        mask = chunk[1].isin(target_orfs)\n",
    "        filtered = chunk[mask]\n",
    "        lookup_dict.update(zip(filtered[1], filtered[0]))\n",
    "    \n",
    "    return lookup_dict\n",
    "\n",
    "# Usage:\n",
    "file_path = 'data/raw_data/all.coassembly_proteins_1st_ClusterDB_repseq_2ndClusterDB.tsv'\n",
    "lookup_dict = build_targeted_lookup(file_path, orf_1_list)  # Do this ONCE\n",
    "\n",
    "print('Dictionary Built')\n",
    "\n",
    "def find_2nd_orf(id, lookup_dict):\n",
    "    \"\"\"O(1) lookup from preloaded dictionary.\"\"\"\n",
    "    return lookup_dict.get(id, None)\n",
    "\n",
    "for entry in map:\n",
    "    entry[2] = find_2nd_orf(entry[1], lookup_dict)\n",
    "    print(entry[2])\n",
    "\n",
    "np.savetxt(\"out/new_cluster_map.tsv\", map, delimiter = '\\t', fmt = '%s')\n",
    "    "
   ]
  },
  {
   "cell_type": "markdown",
   "id": "2abd82e9",
   "metadata": {},
   "source": [
    "(3) Collect abundances, given the new list"
   ]
  },
  {
   "cell_type": "code",
   "execution_count": null,
   "id": "54e3fd30",
   "metadata": {},
   "outputs": [
    {
     "name": "stdout",
     "output_type": "stream",
     "text": [
      "[['T0.scaffold_563122406_c1_2' 'T0.scaffold_563122406_c1_2'\n",
      "  'Soil17.scaffold_102369427_c1_1']\n",
      " ['T0.scaffold_610518454_c1_1' 'T0.scaffold_610518454_c1_1'\n",
      "  'Soil3.scaffold_26587228_c1_1']\n",
      " ['T0.scaffold_914934534_c1_1' 'T0.scaffold_914934534_c1_1'\n",
      "  'Soil9.scaffold_63696370_c1_1']\n",
      " ...\n",
      " ['Soil17.scaffold_221362183_c1_2' 'Soil17.scaffold_221362183_c1_2'\n",
      "  'Soil17.scaffold_221362183_c1_2']\n",
      " ['Soil17.scaffold_102369427_c1_1' 'Soil17.scaffold_102369427_c1_1'\n",
      "  'Soil17.scaffold_102369427_c1_1']\n",
      " ['Soil17.scaffold_1100384366_c1_1' 'Soil17.scaffold_1100384366_c1_1'\n",
      "  'Soil15.scaffold_116822102_c1_19']]\n",
      "271\n",
      "['Soil17.scaffold_102369427_c1_1', 'Soil3.scaffold_26587228_c1_1', 'Soil9.scaffold_63696370_c1_1', 'Soil5.scaffold_113795878_c1_1', 'Soil9.scaffold_353055196_c1_5', 'T0.scaffold_308047681_c1_10', 'Soil6.scaffold_47353953_c1_4', 'Soil6.scaffold_370324234_c1_1', 'Soil5.scaffold_426188557_c1_1', 'Soil5.scaffold_549637727_c1_1', 'Soil16.scaffold_1078417100_c1_2', 'Soil3.scaffold_504725650_c1_2', 'Soil14.scaffold_1074531152_c1_2', 'T0.scaffold_851692350_c1_1', 'Soil15.scaffold_998637677_c1_1', 'T0.scaffold_327279428_c1_4', 'Soil3.scaffold_368174673_c1_1', 'Soil5.scaffold_100460575_c1_5', 'Soil9.scaffold_389291796_c1_1', 'Soil5.scaffold_190334812_c1_127', 'T0.scaffold_961428012_c1_71', 'T0.scaffold_521600323_c1_3', 'Soil11.scaffold_163615468_c1_2', 'Soil9.scaffold_498555357_c1_1', 'T0.scaffold_967757664_c1_1', 'Soil6.scaffold_337799130_c1_1', 'Soil16.scaffold_718712853_c1_1', 'Soil3.scaffold_507624773_c1_1', 'Soil3.scaffold_545048581_c1_2', 'T0.scaffold_469052346_c1_1', 'Soil5.scaffold_30799888_c1_2', 'T0.scaffold_786865677_c1_2', 'T0.scaffold_1040725479_c1_1', 'Soil5.scaffold_416434691_c1_48', 'Soil16.scaffold_289523643_c1_23', 'T0.scaffold_1016848578_c1_1', 'Soil11.scaffold_65427810_c1_20', 'Soil9.scaffold_587284677_c1_1', 'Soil11.scaffold_188574402_c1_9', 'Soil9.scaffold_133927741_c1_1', 'Soil15.scaffold_938222320_c1_1', 'Soil9.scaffold_793036657_c1_1', 'Soil12.scaffold_851803053_c1_1', 'Soil6.scaffold_276395619_c1_1', 'T0.scaffold_632540171_c1_1', 'T0.scaffold_1087053736_c1_1', 'Soil15.scaffold_515991602_c1_2', 'Soil16.scaffold_805434123_c1_1', 'Soil5.scaffold_75236557_c1_1', 'T0.scaffold_925671294_c1_1', 'Soil17.scaffold_1045002370_c1_23', 'T0.scaffold_72495271_c1_1', 'Soil6.scaffold_477227124_c1_1', 'Soil11.scaffold_475955381_c1_1', 'Soil16.scaffold_313969256_c1_10', 'Soil9.scaffold_15410744_c1_2', 'T0.scaffold_1051169002_c1_3', 'T0.scaffold_287104333_c1_1', 'Soil15.scaffold_116822102_c1_19', 'Soil3.scaffold_310218704_c1_2', 'Soil9.scaffold_602598123_c1_1', 'Soil6.scaffold_639228132_c1_1', 'Soil15.scaffold_1154465524_c1_1', 'T0.scaffold_768735077_c1_1', 'Soil5.scaffold_568918686_c1_1', 'T0.scaffold_414794508_c1_1', 'Soil14.scaffold_138179934_c1_3', 'T0.scaffold_693658288_c1_1', 'Soil9.scaffold_77981841_c1_1', 'Soil11.scaffold_389888404_c1_1', 'Soil3.scaffold_414071996_c1_8', 'Soil3.scaffold_297937750_c1_2', 'Soil17.scaffold_1188092603_c1_2', 'Soil16.scaffold_1385083464_c1_1', 'Soil14.scaffold_1099110917_c1_1', 'T0.scaffold_388892069_c1_1', 'Soil17.scaffold_332687915_c1_2', 'Soil5.scaffold_473197893_c1_1', 'Soil6.scaffold_554490263_c1_1', 'Soil11.scaffold_149369388_c1_1', 'Soil14.scaffold_662920441_c1_2', 'Soil3.scaffold_556116953_c1_1', 'Soil9.scaffold_215781292_c1_1', 'Soil14.scaffold_565433180_c1_1', 'Soil5.scaffold_260743559_c1_1', 'Soil3.scaffold_531150720_c1_1', 'Soil3.scaffold_333288240_c1_8', 'Soil6.scaffold_485578092_c1_1', 'Soil15.scaffold_16321085_c1_6', 'T0.scaffold_271427904_c1_1', 'Soil5.scaffold_183283646_c1_24', 'Soil3.scaffold_336787855_c1_1', 'Soil3.scaffold_375487153_c1_3', 'Soil5.scaffold_411158157_c1_2', 'Soil11.scaffold_632437082_c1_25', 'Soil3.scaffold_364714375_c1_1', 'Soil3.scaffold_546338209_c1_1', 'Soil3.scaffold_412201567_c1_1', 'Soil3.scaffold_505476261_c1_2', 'Soil3.scaffold_220327572_c1_1', 'Soil3.scaffold_342380389_c1_1', 'Soil9.scaffold_5397274_c1_2', 'Soil5.scaffold_526478646_c1_1', 'Soil9.scaffold_612341916_c1_1', 'Soil3.scaffold_71126171_c1_1', 'Soil17.scaffold_1105034040_c1_1', 'Soil14.scaffold_939872731_c1_1', 'Soil15.scaffold_652652217_c1_1', 'Soil6.scaffold_163364383_c1_1', 'Soil3.scaffold_435521741_c1_1', 'Soil3.scaffold_66951831_c1_1', 'Soil3.scaffold_355143247_c1_1', 'Soil9.scaffold_516112812_c1_1', 'T0.scaffold_104298005_c1_1', 'Soil3.scaffold_293059500_c1_1', 'Soil3.scaffold_611139327_c1_1', 'Soil12.scaffold_641498763_c1_1', 'Soil5.scaffold_283674501_c1_1', 'Soil3.scaffold_487147719_c1_1', 'Soil9.scaffold_220447296_c1_1', 'Soil9.scaffold_531412781_c1_1', 'Soil6.scaffold_129207369_c1_1', 'Soil5.scaffold_132959859_c1_6', 'Soil5.scaffold_339605269_c1_5', 'Soil16.scaffold_1069668938_c1_2', 'Soil9.scaffold_517831908_c1_1', 'Soil5.scaffold_484561639_c1_4', 'Soil5.scaffold_82918708_c1_12', 'Soil5.scaffold_277088690_c1_18', 'Soil5.scaffold_260742538_c1_23', 'Soil5.scaffold_86898616_c1_1', 'Soil3.scaffold_225804219_c1_12', 'Soil14.scaffold_927023944_c1_157', 'Soil5.scaffold_485689044_c1_1', 'Soil5.scaffold_126248520_c1_2', 'Soil5.scaffold_33740271_c1_1', 'Soil5.scaffold_525980190_c1_22', 'Soil14.scaffold_95957364_c1_2', 'Soil5.scaffold_209506766_c1_7', 'Soil5.scaffold_489407153_c1_201', 'Soil5.scaffold_338947275_c1_1', 'Soil9.scaffold_360807477_c1_1', 'Soil5.scaffold_414464903_c1_1', 'Soil5.scaffold_190958481_c1_1', 'Soil5.scaffold_120605214_c1_7', 'Soil5.scaffold_156252851_c1_4', 'Soil14.scaffold_96422613_c1_1', 'Soil11.scaffold_340154522_c1_2', 'Soil9.scaffold_76251367_c1_2', 'Soil5.scaffold_344852999_c1_1', 'Soil17.scaffold_918557319_c1_2', 'Soil5.scaffold_505074467_c1_3', 'Soil16.scaffold_1016730051_c1_1', 'Soil5.scaffold_10131657_c1_1', 'Soil17.scaffold_1260026387_c1_1', 'Soil9.scaffold_117431192_c1_1', 'Soil5.scaffold_297430877_c1_1', 'Soil6.scaffold_520427360_c1_1', 'Soil5.scaffold_434220697_c1_2', 'Soil5.scaffold_110427239_c1_1', 'Soil5.scaffold_359381833_c1_1', 'Soil5.scaffold_287011042_c1_1', 'Soil5.scaffold_350004259_c1_1', 'Soil9.scaffold_495431178_c1_1', 'Soil9.scaffold_313253032_c1_1', 'T0.scaffold_104292398_c1_1', 'T0.scaffold_832297828_c1_3', 'Soil5.scaffold_549495455_c1_6', 'Soil5.scaffold_87619515_c1_114', 'Soil14.scaffold_105183005_c1_1', 'Soil17.scaffold_561235403_c1_1', 'Soil6.scaffold_547701030_c1_1', 'Soil9.scaffold_58551080_c1_2', 'Soil6.scaffold_522312521_c1_2', 'Soil11.scaffold_666531250_c1_1', 'Soil12.scaffold_688655950_c2_1', 'Soil6.scaffold_433423852_c1_1', 'Soil11.scaffold_245183604_c1_2', 'Soil11.scaffold_248094326_c1_1', 'Soil12.scaffold_156165295_c1_1', 'Soil6.scaffold_569443478_c1_7', 'Soil12.scaffold_35843989_c1_1', 'Soil3.scaffold_352785319_c1_1', 'Soil6.scaffold_92176293_c1_1', 'Soil12.scaffold_29882437_c1_2', 'Soil15.scaffold_175810641_c1_3', 'Soil9.scaffold_138523248_c1_1', 'T0.scaffold_418410699_c1_1', 'Soil17.scaffold_581198514_c1_1', 'Soil5.scaffold_120021607_c1_1', 'Soil9.scaffold_727033318_c1_1', 'Soil9.scaffold_338763167_c1_1', 'Soil5.scaffold_290114046_c1_1', 'Soil9.scaffold_427270196_c1_1', 'Soil6.scaffold_444127124_c1_1', 'Soil5.scaffold_456906488_c1_1', 'Soil9.scaffold_372417789_c1_1', 'Soil9.scaffold_550278571_c1_1', 'Soil16.scaffold_452052314_c1_1', 'Soil11.scaffold_114723579_c1_33', 'Soil14.scaffold_153203538_c1_1', 'Soil9.scaffold_363015616_c1_1', 'Soil9.scaffold_713742547_c1_1', 'Soil9.scaffold_101985961_c1_1', 'Soil9.scaffold_572289408_c1_9', 'T0.scaffold_714353858_c1_1', 'Soil11.scaffold_109289769_c1_1', 'Soil11.scaffold_404038970_c1_1', 'Soil9.scaffold_635765039_c1_77', 'Soil16.scaffold_469205158_c1_1', 'Soil11.scaffold_170649441_c1_1', 'Soil11.scaffold_347614675_c1_1', 'Soil3.scaffold_259363464_c1_1', 'Soil11.scaffold_392700608_c1_1', 'Soil17.scaffold_1255261886_c1_1', 'Soil11.scaffold_129783488_c1_1', 'Soil11.scaffold_522683875_c1_1', 'Soil15.scaffold_1095997441_c1_1', 'Soil11.scaffold_431424030_c1_1', 'Soil11.scaffold_668984062_c1_1', 'Soil15.scaffold_437702843_c1_1', 'Soil6.scaffold_457196357_c1_1', 'Soil12.scaffold_674568068_c1_1', 'Soil12.scaffold_411182367_c1_117', 'Soil15.scaffold_817137977_c1_1', 'Soil12.scaffold_767270569_c1_1', 'Soil12.scaffold_689576111_c1_1', 'Soil12.scaffold_867417568_c1_1', 'Soil12.scaffold_429967949_c1_2', 'Soil12.scaffold_331288712_c1_8', 'Soil3.scaffold_493956733_c1_10', 'Soil15.scaffold_1166588150_c1_1', 'Soil15.scaffold_1290921615_c1_1', 'Soil12.scaffold_698126081_c1_1', 'Soil14.scaffold_740372462_c1_1', 'Soil14.scaffold_684112692_c1_1', 'Soil17.scaffold_1067865600_c1_1', 'Soil16.scaffold_793465436_c1_2', 'Soil14.scaffold_280216268_c1_12', 'Soil15.scaffold_46508226_c1_1', 'Soil16.scaffold_241688877_c1_1', 'Soil14.scaffold_753907801_c1_1', 'Soil15.scaffold_180815506_c1_1', 'Soil14.scaffold_284095619_c1_1', 'Soil14.scaffold_576820813_c1_40', 'Soil11.scaffold_321547053_c1_1', 'Soil5.scaffold_57484380_c1_1', 'Soil15.scaffold_1182777590_c1_38', 'Soil16.scaffold_753772963_c1_1', 'Soil15.scaffold_674474608_c1_1', 'Soil17.scaffold_1292277973_c1_1', 'Soil15.scaffold_1255266399_c1_142', 'Soil15.scaffold_162675515_c1_1', 'Soil15.scaffold_43394979_c1_1', 'Soil16.scaffold_235695670_c1_1', 'Soil16.scaffold_1215073673_c1_1', 'Soil16.scaffold_640953118_c1_1', 'Soil16.scaffold_436666653_c1_2', 'Soil16.scaffold_494804418_c1_1', 'Soil14.scaffold_955287814_c1_1', 'Soil16.scaffold_1328109982_c1_1', 'Soil17.scaffold_852337644_c1_1', 'Soil9.scaffold_642935399_c1_11', 'Soil9.scaffold_635818165_c2_1', 'Soil17.scaffold_489938669_c1_1', 'Soil17.scaffold_1071092128_c1_1', 'T0.scaffold_866938672_c1_1', 'Soil17.scaffold_373813518_c1_1', 'Soil17.scaffold_841705790_c1_1', 'Soil17.scaffold_599525779_c1_2', 'Soil17.scaffold_221362183_c1_2']\n"
     ]
    }
   ],
   "source": [
    "cluster_map = pd.read_csv('out/cluster08map_nar.tsv', sep = '\\t', header=None)\n",
    "cluster_map = cluster_map.values\n",
    "print(cluster_map)\n",
    "\n",
    "cluster_IDs = []\n",
    "\n",
    "for cluster in cluster_map:\n",
    "    if cluster[2] not in cluster_IDs:\n",
    "        cluster_IDs.append(cluster[2])\n",
    "        \n",
    "print(len(cluster_IDs))\n",
    "print(cluster_IDs)\n",
    "np.savetxt(\"out/cluster_ids_271_nar.tsv\", cluster_IDs, delimiter = '\\t', fmt = '%s')"
   ]
  }
 ],
 "metadata": {
  "kernelspec": {
   "display_name": "Python 3",
   "language": "python",
   "name": "python3"
  },
  "language_info": {
   "codemirror_mode": {
    "name": "ipython",
    "version": 3
   },
   "file_extension": ".py",
   "mimetype": "text/x-python",
   "name": "python",
   "nbconvert_exporter": "python",
   "pygments_lexer": "ipython3",
   "version": "3.12.6"
  }
 },
 "nbformat": 4,
 "nbformat_minor": 5
}
