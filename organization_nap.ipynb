{
 "cells": [
  {
   "cell_type": "code",
   "execution_count": 4,
   "id": "ce7bd11e",
   "metadata": {},
   "outputs": [],
   "source": [
    "import numpy as np\n",
    "import matplotlib.pyplot as plt\n",
    "import pandas as pd\n",
    "from functions import get_filepath, find_clustered_orfs, find_orfs, find_orfs_from_cluster, find_cluster_from_orf\n",
    "from functions import samples_from_soils, perturbed_pHs, native_pH, enriched_native_pH, perturbed_pH_sample, plot\n",
    "\n",
    "DATDIR = '/projects/p32818/metagenomic_data/data'\n",
    "\n",
    "soils = ['Soil3', 'Soil5', 'Soil6', 'Soil9', 'Soil11', 'Soil12', 'Soil14', 'Soil15', 'Soil16', 'Soil17']"
   ]
  },
  {
   "cell_type": "code",
   "execution_count": 3,
   "id": "dc8f468f",
   "metadata": {},
   "outputs": [
    {
     "data": {
      "text/plain": [
       "<module 'functions' from '/gpfs/projects/p32818/metagenomic_data/functions.py'>"
      ]
     },
     "execution_count": 3,
     "metadata": {},
     "output_type": "execute_result"
    }
   ],
   "source": [
    "import os\n",
    "\n",
    "os.chdir('/gpfs/projects/p32818/metagenomic_data')\n",
    "\n",
    "os.getcwd()\n",
    "\n",
    "import importlib\n",
    "import functions\n",
    "importlib.reload(functions)"
   ]
  },
  {
   "cell_type": "code",
   "execution_count": 5,
   "id": "efc2eb97",
   "metadata": {},
   "outputs": [],
   "source": [
    "#For T0, build a plot with rows which are cluster IDs and columns which are Native pH\n",
    "ORFs = find_orfs(get_filepath('T0', 'annotation'), 'K02567')\n",
    "ORF_list = list(ORFs)\n",
    "samples = pd.read_csv(f'{DATDIR}/T0_sampleIDs.tsv', header=None)[0]\n",
    "sample_list = list(samples)\n",
    "metadata = pd.read_csv(f'{DATDIR}/metadata.tsv', sep = '\\t')\n",
    "metadata = metadata.set_index('sample')\n",
    "\n",
    "\n",
    "chunk_size = 100000\n",
    "\n",
    "data = np.zeros((len(ORFs), 20)) #data for plot stored here, each row is a dinstinct ORF, \n",
    "\n",
    "for chunk in pd.read_csv(get_filepath('T0', 'abundance'), sep='\\s+', header=None,  chunksize = chunk_size):\n",
    "    filtered_chunk = chunk[chunk.iloc[:, 1].isin(ORFs)]\n",
    "    for i in range(len(filtered_chunk)):\n",
    "        sample_id = filtered_chunk.iloc[i, 0]\n",
    "        orf = filtered_chunk.iloc[i, 1]\n",
    "        rel_abundance = filtered_chunk.iloc[i, 2]\n",
    "        spikein = metadata.loc[sample_id, 'spikein_sum']\n",
    "        row_idx = ORF_list.index(orf)\n",
    "        col_idx = sample_list.index(sample_id)\n",
    "        data[row_idx, col_idx] += rel_abundance/spikein\n",
    "        \n",
    "        \n",
    "absolute_data = data\n",
    "\n",
    "np.savetxt(\"out/absolute_data_nap.tsv\", np.array(data), delimiter = '\\t', fmt = '%.6f')"
   ]
  },
  {
   "cell_type": "code",
   "execution_count": 9,
   "id": "ca333d67",
   "metadata": {},
   "outputs": [
    {
     "data": {
      "image/png": "[encoded data removed]",
      "text/plain": [
       "<Figure size 720x432 with 2 Axes>"
      ]
     },
     "metadata": {
      "needs_background": "light"
     },
     "output_type": "display_data"
    }
   ],
   "source": [
    "data = pd.read_csv(\"out/absolute_data_nap.tsv\", sep='\\t', header=None)\n",
    "data = data.values\n",
    "#sorted_data = data[np.argsort(-np.abs(data[:, 0]))]\n",
    "#normalized_data = sorted_data / sorted_data.sum(axis=1, keepdims=True) #normalization step\n",
    "\n",
    "x = np.linspace(4.7, 8.3, 20)\n",
    "\n",
    "\n",
    "plt.figure(figsize=(10, 6))\n",
    "\n",
    "plt.imshow(data, aspect='auto', cmap='Blues', extent=[x[0], x[-1], 0, data.shape[0]])\n",
    "\n",
    "plt.xlabel('Native pH')\n",
    "plt.ylabel('ORFs')\n",
    "plt.title('Normalized Abundance of ORFs Across Native pH')\n",
    "\n",
    "plt.colorbar(label='Normalized Abundance')\n",
    "\n",
    "plt.xticks(ticks=np.linspace(x[0], x[-1], len(x)), labels=[f\"{val:.1f}\" for val in x], rotation=45)\n",
    "\n",
    "plt.tight_layout()\n",
    "plt.show()"
   ]
  },
  {
   "cell_type": "code",
   "execution_count": 6,
   "id": "0b6340b4",
   "metadata": {},
   "outputs": [
    {
     "name": "stdout",
     "output_type": "stream",
     "text": [
      "\n",
      " ORFs \n",
      "\n",
      "['T0.scaffold_826610199_c1_1', 'T0.scaffold_170828508_c1_1', 'T0.scaffold_785029462_c1_5', 'T0.scaffold_500133190_c1_1', 'T0.scaffold_915148188_c1_1', 'T0.scaffold_133727621_c1_1', 'T0.scaffold_629956420_c1_1', 'T0.scaffold_915288777_c1_1', 'T0.scaffold_11476034_c1_1', 'T0.scaffold_61541039_c1_1', 'T0.scaffold_831992212_c1_1']\n",
      "Soil17.scaffold_704643222_c1_1\n",
      "T0.scaffold_170828508_c1_1\n",
      "T0.scaffold_785029462_c1_5\n",
      "T0.scaffold_500133190_c1_1\n",
      "T0.scaffold_915148188_c1_1\n",
      "T0.scaffold_133727621_c1_1\n",
      "Soil16.scaffold_1132685456_c1_1\n",
      "Soil14.scaffold_603633783_c1_1\n",
      "T0.scaffold_11476034_c1_1\n",
      "T0.scaffold_61541039_c1_1\n",
      "Soil9.scaffold_399115430_c1_5\n",
      "\n",
      " Clusters \n",
      "\n",
      "['Soil17.scaffold_704643222_c1_1', 'T0.scaffold_170828508_c1_1', 'T0.scaffold_785029462_c1_5', 'T0.scaffold_500133190_c1_1', 'T0.scaffold_915148188_c1_1', 'T0.scaffold_133727621_c1_1', 'Soil16.scaffold_1132685456_c1_1', 'Soil14.scaffold_603633783_c1_1', 'T0.scaffold_11476034_c1_1', 'T0.scaffold_61541039_c1_1', 'Soil9.scaffold_399115430_c1_5']\n"
     ]
    }
   ],
   "source": [
    "#For T0, build a plot with rows which are cluster IDs and columns which are Native pH\n",
    "ORFs = find_orfs(get_filepath('T0', 'annotation'), 'K02567')\n",
    "ORF_list = list(ORFs)\n",
    "print('\\n ORFs \\n')\n",
    "print(ORF_list)\n",
    "Cluster_IDs_nap = ORF_list\n",
    "for i in range(len(ORF_list)):\n",
    "    Cluster_IDs_nap[i] = find_cluster_from_orf(ORF_list[i])\n",
    "    print(Cluster_IDs_nap[i])\n",
    "print('\\n Clusters \\n')\n",
    "print(Cluster_IDs_nap)\n",
    "\n",
    "IDs = np.array(Cluster_IDs_nap)\n",
    "\n",
    "sort_indices = np.argsort(-np.abs(data[:, 0])) \n",
    "\n",
    "sorted_data = data[sort_indices]\n",
    "sorted_IDs = IDs[sort_indices]\n",
    "\n",
    "# Dictionary to accumulate data\n",
    "id_to_data = {} #given an id, the dictionary spits out the data array\n",
    "for id, row in zip(sorted_IDs, sorted_data):\n",
    "    if id in id_to_data:\n",
    "        id_to_data[id] += row\n",
    "    else:\n",
    "        id_to_data[id] = row.copy()\n",
    "\n",
    "# Reconstruct the arrays\n",
    "unique_IDs = list(id_to_data.keys())\n",
    "combined_data = np.array([id_to_data[id] for id in unique_IDs])\n",
    "\n",
    "np.savetxt(\"out/cluster_ids_nap.tsv\", unique_IDs, delimiter = '\\t', fmt = '%s')\n",
    "np.savetxt(\"out/clustered_data_nap.tsv\", combined_data, delimiter = '\\t', fmt = '%0.6f')\n",
    "    "
   ]
  },
  {
   "cell_type": "code",
   "execution_count": 7,
   "id": "15480346",
   "metadata": {},
   "outputs": [
    {
     "name": "stdout",
     "output_type": "stream",
     "text": [
      "['Soil17.scaffold_704643222_c1_1', 'T0.scaffold_170828508_c1_1', 'T0.scaffold_785029462_c1_5', 'T0.scaffold_500133190_c1_1', 'T0.scaffold_915148188_c1_1', 'T0.scaffold_133727621_c1_1', 'Soil16.scaffold_1132685456_c1_1', 'Soil14.scaffold_603633783_c1_1', 'T0.scaffold_11476034_c1_1', 'T0.scaffold_61541039_c1_1', 'Soil9.scaffold_399115430_c1_5']\n",
      "[[0.       0.       0.       0.       0.       0.       0.       0.\n",
      "  0.       0.       0.       0.       0.00483  0.007073 0.029725 0.044787\n",
      "  0.00703  0.005013 0.005103 0.043696]\n",
      " [0.       0.       0.       0.       0.       0.       0.       0.\n",
      "  0.       0.       0.       0.       0.       0.       0.       0.\n",
      "  0.       0.       0.       0.      ]\n",
      " [0.       0.       0.       0.       0.       0.       0.       0.\n",
      "  0.       0.       0.       0.010971 0.001115 0.043257 0.068854 0.023868\n",
      "  0.046249 0.096981 0.02471  0.027638]\n",
      " [0.       0.       0.       0.       0.       0.       0.       0.\n",
      "  0.       0.       0.       0.       0.       0.       0.       0.\n",
      "  0.       0.       0.       0.      ]\n",
      " [0.       0.       0.       0.       0.       0.       0.       0.\n",
      "  0.       0.       0.       0.       0.013374 0.006529 0.019391 0.006436\n",
      "  0.01295  0.       0.003223 0.015904]\n",
      " [0.       0.       0.       0.       0.       0.       0.       0.\n",
      "  0.       0.       0.       0.       0.       0.       0.       0.\n",
      "  0.       0.       0.       0.      ]\n",
      " [0.       0.00687  0.       0.       0.       0.003048 0.       0.\n",
      "  0.017831 0.006049 0.       0.       0.012631 0.020948 0.       0.003084\n",
      "  0.008325 0.008676 0.       0.      ]\n",
      " [0.       0.       0.       0.       0.       0.       0.004215 0.\n",
      "  0.       0.       0.       0.029327 0.009473 0.040809 0.003716 0.021723\n",
      "  0.029784 0.010219 0.010206 0.027638]\n",
      " [0.       0.       0.       0.       0.       0.       0.       0.\n",
      "  0.       0.       0.       0.       0.       0.03047  0.011379 0.038216\n",
      "  0.00518  0.004242 0.       0.040454]\n",
      " [0.       0.       0.       0.       0.       0.       0.       0.\n",
      "  0.       0.       0.       0.       0.       0.       0.       0.\n",
      "  0.       0.       0.       0.      ]\n",
      " [0.       0.       0.       0.       0.       0.       0.052774 0.003841\n",
      "  0.006538 0.       0.012396 0.005064 0.002229 0.008978 0.       0.\n",
      "  0.       0.       0.       0.      ]]\n"
     ]
    },
    {
     "name": "stderr",
     "output_type": "stream",
     "text": [
      "/software/python-anaconda3/2019.10/lib/python3.7/site-packages/ipykernel_launcher.py:9: RuntimeWarning: invalid value encountered in true_divide\n",
      "  if __name__ == '__main__':\n"
     ]
    },
    {
     "data": {
      "image/png": "[encoded data removed]",
      "text/plain": [
       "<Figure size 720x432 with 2 Axes>"
      ]
     },
     "metadata": {
      "needs_background": "light"
     },
     "output_type": "display_data"
    }
   ],
   "source": [
    "cluster_IDs = pd.read_csv('out/cluster_ids_nap.tsv', sep='\\t', header=None)\n",
    "clustered_data = pd.read_csv('out/clustered_data_nap.tsv', sep='\\t', header=None)\n",
    "cluster_IDs = cluster_IDs.values\n",
    "cluster_IDs = [item[0] for item in cluster_IDs]\n",
    "clustered_data = clustered_data.values\n",
    "print(cluster_IDs)\n",
    "print(clustered_data)\n",
    "\n",
    "normalized_data = clustered_data / clustered_data.sum(axis=1, keepdims=True) #normalization step\n",
    "\n",
    "\n",
    "x = np.linspace(4.7, 8.3, 20)\n",
    "\n",
    "\n",
    "plt.figure(figsize=(10, 6))\n",
    "\n",
    "plt.imshow(normalized_data, aspect='auto', cmap='Blues', extent=[x[0], x[-1], 0, normalized_data.shape[0]])\n",
    "\n",
    "plt.xlabel('Native pH')\n",
    "plt.ylabel('Cluster')\n",
    "plt.title('Normalized Abundance of Clusters Across Native pH')\n",
    "\n",
    "plt.colorbar(label='Normalized Abundance')\n",
    "\n",
    "plt.xticks(ticks=np.linspace(x[0], x[-1], len(x)), labels=[f\"{val:.1f}\" for val in x], rotation=45)\n",
    "\n",
    "plt.tight_layout()\n",
    "plt.show()"
   ]
  },
  {
   "cell_type": "code",
   "execution_count": null,
   "id": "d6f2c7d7",
   "metadata": {},
   "outputs": [],
   "source": [
    "tracking = pd.read_csv('out/track_clusters_nap.tsv')\n",
    "tracking = tracking.values\n",
    "plt.imshow(tracking)"
   ]
  }
 ],
 "metadata": {
  "kernelspec": {
   "display_name": "Python 3",
   "language": "python",
   "name": "python3"
  },
  "language_info": {
   "codemirror_mode": {
    "name": "ipython",
    "version": 3
   },
   "file_extension": ".py",
   "mimetype": "text/x-python",
   "name": "python",
   "nbconvert_exporter": "python",
   "pygments_lexer": "ipython3",
   "version": "3.7.4"
  }
 },
 "nbformat": 4,
 "nbformat_minor": 5
}
